{
  "cells": [
    {
      "cell_type": "markdown",
      "source": [
        "Reference papers/sources\n",
        "\n",
        "https://saifmohammad.com/WebPages/NRC-Emotion-Lexicon.html\n",
        "https://www.codingninjas.com/studio/library/nrc-lexicon-in-python\n",
        "https://github.com/metalcorebear/NRCLex\n",
        "https://github.com/Priya22/EmotionDynamics\n",
        "\n",
        "for mapping the emotions\n",
        "https://www.researchgate.net/publication/265596754_The_Emotionality_of_Sonic_Events_Testing_the_Geneva_Emotional_Music_Scale_GEMS_for_Popular_and_Electroacoustic_Music\n",
        "\n",
        "documentation\n",
        "https://pypi.org/project/NRCLex/"
      ],
      "metadata": {
        "id": "thkVMWyNg4FX"
      }
    },
    {
      "cell_type": "markdown",
      "source": [
        "## Installing Dependencies"
      ],
      "metadata": {
        "id": "IUZgsJYBeR4S"
      }
    },
    {
      "cell_type": "code",
      "execution_count": null,
      "metadata": {
        "colab": {
          "base_uri": "https://localhost:8080/"
        },
        "id": "QQRtwSsf6Out",
        "outputId": "9be53ec3-e455-408a-edae-ada272f7b8e8"
      },
      "outputs": [
        {
          "output_type": "stream",
          "name": "stdout",
          "text": [
            "Requirement already satisfied: tensorflow in /usr/local/lib/python3.10/dist-packages (2.13.0)\n",
            "Requirement already satisfied: absl-py>=1.0.0 in /usr/local/lib/python3.10/dist-packages (from tensorflow) (1.4.0)\n",
            "Requirement already satisfied: astunparse>=1.6.0 in /usr/local/lib/python3.10/dist-packages (from tensorflow) (1.6.3)\n",
            "Requirement already satisfied: flatbuffers>=23.1.21 in /usr/local/lib/python3.10/dist-packages (from tensorflow) (23.5.26)\n",
            "Requirement already satisfied: gast<=0.4.0,>=0.2.1 in /usr/local/lib/python3.10/dist-packages (from tensorflow) (0.4.0)\n",
            "Requirement already satisfied: google-pasta>=0.1.1 in /usr/local/lib/python3.10/dist-packages (from tensorflow) (0.2.0)\n",
            "Requirement already satisfied: grpcio<2.0,>=1.24.3 in /usr/local/lib/python3.10/dist-packages (from tensorflow) (1.59.0)\n",
            "Requirement already satisfied: h5py>=2.9.0 in /usr/local/lib/python3.10/dist-packages (from tensorflow) (3.9.0)\n",
            "Requirement already satisfied: keras<2.14,>=2.13.1 in /usr/local/lib/python3.10/dist-packages (from tensorflow) (2.13.1)\n",
            "Requirement already satisfied: libclang>=13.0.0 in /usr/local/lib/python3.10/dist-packages (from tensorflow) (16.0.6)\n",
            "Requirement already satisfied: numpy<=1.24.3,>=1.22 in /usr/local/lib/python3.10/dist-packages (from tensorflow) (1.23.5)\n",
            "Requirement already satisfied: opt-einsum>=2.3.2 in /usr/local/lib/python3.10/dist-packages (from tensorflow) (3.3.0)\n",
            "Requirement already satisfied: packaging in /usr/local/lib/python3.10/dist-packages (from tensorflow) (23.2)\n",
            "Requirement already satisfied: protobuf!=4.21.0,!=4.21.1,!=4.21.2,!=4.21.3,!=4.21.4,!=4.21.5,<5.0.0dev,>=3.20.3 in /usr/local/lib/python3.10/dist-packages (from tensorflow) (3.20.3)\n",
            "Requirement already satisfied: setuptools in /usr/local/lib/python3.10/dist-packages (from tensorflow) (67.7.2)\n",
            "Requirement already satisfied: six>=1.12.0 in /usr/local/lib/python3.10/dist-packages (from tensorflow) (1.16.0)\n",
            "Requirement already satisfied: tensorboard<2.14,>=2.13 in /usr/local/lib/python3.10/dist-packages (from tensorflow) (2.13.0)\n",
            "Requirement already satisfied: tensorflow-estimator<2.14,>=2.13.0 in /usr/local/lib/python3.10/dist-packages (from tensorflow) (2.13.0)\n",
            "Requirement already satisfied: termcolor>=1.1.0 in /usr/local/lib/python3.10/dist-packages (from tensorflow) (2.3.0)\n",
            "Requirement already satisfied: typing-extensions<4.6.0,>=3.6.6 in /usr/local/lib/python3.10/dist-packages (from tensorflow) (4.5.0)\n",
            "Requirement already satisfied: wrapt>=1.11.0 in /usr/local/lib/python3.10/dist-packages (from tensorflow) (1.15.0)\n",
            "Requirement already satisfied: tensorflow-io-gcs-filesystem>=0.23.1 in /usr/local/lib/python3.10/dist-packages (from tensorflow) (0.34.0)\n",
            "Requirement already satisfied: wheel<1.0,>=0.23.0 in /usr/local/lib/python3.10/dist-packages (from astunparse>=1.6.0->tensorflow) (0.41.2)\n",
            "Requirement already satisfied: google-auth<3,>=1.6.3 in /usr/local/lib/python3.10/dist-packages (from tensorboard<2.14,>=2.13->tensorflow) (2.17.3)\n",
            "Requirement already satisfied: google-auth-oauthlib<1.1,>=0.5 in /usr/local/lib/python3.10/dist-packages (from tensorboard<2.14,>=2.13->tensorflow) (1.0.0)\n",
            "Requirement already satisfied: markdown>=2.6.8 in /usr/local/lib/python3.10/dist-packages (from tensorboard<2.14,>=2.13->tensorflow) (3.5)\n",
            "Requirement already satisfied: requests<3,>=2.21.0 in /usr/local/lib/python3.10/dist-packages (from tensorboard<2.14,>=2.13->tensorflow) (2.31.0)\n",
            "Requirement already satisfied: tensorboard-data-server<0.8.0,>=0.7.0 in /usr/local/lib/python3.10/dist-packages (from tensorboard<2.14,>=2.13->tensorflow) (0.7.1)\n",
            "Requirement already satisfied: werkzeug>=1.0.1 in /usr/local/lib/python3.10/dist-packages (from tensorboard<2.14,>=2.13->tensorflow) (3.0.0)\n",
            "Requirement already satisfied: cachetools<6.0,>=2.0.0 in /usr/local/lib/python3.10/dist-packages (from google-auth<3,>=1.6.3->tensorboard<2.14,>=2.13->tensorflow) (5.3.1)\n",
            "Requirement already satisfied: pyasn1-modules>=0.2.1 in /usr/local/lib/python3.10/dist-packages (from google-auth<3,>=1.6.3->tensorboard<2.14,>=2.13->tensorflow) (0.3.0)\n",
            "Requirement already satisfied: rsa<5,>=3.1.4 in /usr/local/lib/python3.10/dist-packages (from google-auth<3,>=1.6.3->tensorboard<2.14,>=2.13->tensorflow) (4.9)\n",
            "Requirement already satisfied: requests-oauthlib>=0.7.0 in /usr/local/lib/python3.10/dist-packages (from google-auth-oauthlib<1.1,>=0.5->tensorboard<2.14,>=2.13->tensorflow) (1.3.1)\n",
            "Requirement already satisfied: charset-normalizer<4,>=2 in /usr/local/lib/python3.10/dist-packages (from requests<3,>=2.21.0->tensorboard<2.14,>=2.13->tensorflow) (3.3.0)\n",
            "Requirement already satisfied: idna<4,>=2.5 in /usr/local/lib/python3.10/dist-packages (from requests<3,>=2.21.0->tensorboard<2.14,>=2.13->tensorflow) (3.4)\n",
            "Requirement already satisfied: urllib3<3,>=1.21.1 in /usr/local/lib/python3.10/dist-packages (from requests<3,>=2.21.0->tensorboard<2.14,>=2.13->tensorflow) (2.0.6)\n",
            "Requirement already satisfied: certifi>=2017.4.17 in /usr/local/lib/python3.10/dist-packages (from requests<3,>=2.21.0->tensorboard<2.14,>=2.13->tensorflow) (2023.7.22)\n",
            "Requirement already satisfied: MarkupSafe>=2.1.1 in /usr/local/lib/python3.10/dist-packages (from werkzeug>=1.0.1->tensorboard<2.14,>=2.13->tensorflow) (2.1.3)\n",
            "Requirement already satisfied: pyasn1<0.6.0,>=0.4.6 in /usr/local/lib/python3.10/dist-packages (from pyasn1-modules>=0.2.1->google-auth<3,>=1.6.3->tensorboard<2.14,>=2.13->tensorflow) (0.5.0)\n",
            "Requirement already satisfied: oauthlib>=3.0.0 in /usr/local/lib/python3.10/dist-packages (from requests-oauthlib>=0.7.0->google-auth-oauthlib<1.1,>=0.5->tensorboard<2.14,>=2.13->tensorflow) (3.2.2)\n",
            "Collecting NRCLex\n",
            "  Downloading NRCLex-4.0-py3-none-any.whl (4.4 kB)\n",
            "Requirement already satisfied: textblob in /usr/local/lib/python3.10/dist-packages (from NRCLex) (0.17.1)\n",
            "INFO: pip is looking at multiple versions of nrclex to determine which version is compatible with other requirements. This could take a while.\n",
            "  Downloading NRCLex-3.0.0.tar.gz (396 kB)\n",
            "\u001b[2K     \u001b[90m━━━━━━━━━━━━━━━━━━━━━━━━━━━━━━━━━━━━━━━━\u001b[0m \u001b[32m396.4/396.4 kB\u001b[0m \u001b[31m4.4 MB/s\u001b[0m eta \u001b[36m0:00:00\u001b[0m\n",
            "\u001b[?25h  Preparing metadata (setup.py) ... \u001b[?25l\u001b[?25hdone\n",
            "Requirement already satisfied: nltk>=3.1 in /usr/local/lib/python3.10/dist-packages (from textblob->NRCLex) (3.8.1)\n",
            "Requirement already satisfied: click in /usr/local/lib/python3.10/dist-packages (from nltk>=3.1->textblob->NRCLex) (8.1.7)\n",
            "Requirement already satisfied: joblib in /usr/local/lib/python3.10/dist-packages (from nltk>=3.1->textblob->NRCLex) (1.3.2)\n",
            "Requirement already satisfied: regex>=2021.8.3 in /usr/local/lib/python3.10/dist-packages (from nltk>=3.1->textblob->NRCLex) (2023.6.3)\n",
            "Requirement already satisfied: tqdm in /usr/local/lib/python3.10/dist-packages (from nltk>=3.1->textblob->NRCLex) (4.66.1)\n",
            "Building wheels for collected packages: NRCLex\n",
            "  Building wheel for NRCLex (setup.py) ... \u001b[?25l\u001b[?25hdone\n",
            "  Created wheel for NRCLex: filename=NRCLex-3.0.0-py3-none-any.whl size=43310 sha256=910026477edf883fabf821a52e7cb6f10926cc9deb015200d4b048594499ee54\n",
            "  Stored in directory: /root/.cache/pip/wheels/d2/10/44/6abfb1234298806a145fd6bcaec8cbc712e88dd1cd6cb242fa\n",
            "Successfully built NRCLex\n",
            "Installing collected packages: NRCLex\n",
            "Successfully installed NRCLex-3.0.0\n",
            "Requirement already satisfied: opencv-python in /usr/local/lib/python3.10/dist-packages (4.8.0.76)\n",
            "Requirement already satisfied: numpy>=1.21.2 in /usr/local/lib/python3.10/dist-packages (from opencv-python) (1.23.5)\n"
          ]
        }
      ],
      "source": [
        "!pip3 install tensorflow\n",
        "!pip3 install NRCLex\n",
        "!pip3 install opencv-python"
      ]
    },
    {
      "cell_type": "code",
      "execution_count": null,
      "metadata": {
        "id": "Cx6KIPaE6Ouy"
      },
      "outputs": [],
      "source": []
    },
    {
      "cell_type": "code",
      "execution_count": null,
      "metadata": {
        "id": "PiIBpAvB6Ouz"
      },
      "outputs": [],
      "source": [
        "# Import the Required Packages\n",
        "\n",
        "from tensorflow.keras.preprocessing.text import Tokenizer\n",
        "from tensorflow.keras.preprocessing.sequence import pad_sequences\n",
        "\n",
        "import numpy as np"
      ]
    },
    {
      "cell_type": "markdown",
      "metadata": {
        "id": "T24PtmVM6Ouz"
      },
      "source": [
        "## Step 1 – Data Loading and Processing"
      ]
    },
    {
      "cell_type": "markdown",
      "metadata": {
        "id": "GWAocMJO6Ou1"
      },
      "source": [
        "### 1.1 Data Loading"
      ]
    },
    {
      "cell_type": "code",
      "execution_count": null,
      "metadata": {
        "id": "XXv4XoJG6Ou1"
      },
      "outputs": [],
      "source": [
        "# Load the song file\n",
        "import pandas as pd\n",
        "df = pd.read_csv('SingleLabel.csv')"
      ]
    },
    {
      "cell_type": "code",
      "execution_count": null,
      "metadata": {
        "colab": {
          "base_uri": "https://localhost:8080/",
          "height": 204
        },
        "id": "YARsKX4q6Ou2",
        "outputId": "2bc2dfbc-043c-4010-c9e3-bcf7dcc0a453"
      },
      "outputs": [
        {
          "output_type": "execute_result",
          "data": {
            "text/plain": [
              "           artist    genre                  title                    album  \\\n",
              "0         Nirvana     Rock  You Know You’re Right                  Nirvana   \n",
              "1   Damian Marley   Reggae             Here We Go               Stony Hill   \n",
              "2  The Mission UK     Rock                   Jade  Another Fall from Grace   \n",
              "3            UB40   Reggae       Food For Thought              Signing Off   \n",
              "4     Johnny Cash  Country   I’ve Been Everywhere   American II: Unchained   \n",
              "\n",
              "     year                                             lyrics       label  \n",
              "0  2002.0  I will never bother you\\nI will never promise ...     Sadness  \n",
              "1  2017.0  Here we go\\nMy big ego is gonna get me in trou...     Tension  \n",
              "2  2016.0  She came as Lolita dressed as Venus\\nAnd adorn...  Tenderness  \n",
              "3  1980.0  Ivory Madonna, dying in the dust\\nWaiting for ...     Sadness  \n",
              "4  1996.0  I was totin' my pack along the dusty Winnemucc...     Sadness  "
            ],
            "text/html": [
              "\n",
              "  <div id=\"df-5a35ea4c-4975-4c64-8398-634f7952736c\" class=\"colab-df-container\">\n",
              "    <div>\n",
              "<style scoped>\n",
              "    .dataframe tbody tr th:only-of-type {\n",
              "        vertical-align: middle;\n",
              "    }\n",
              "\n",
              "    .dataframe tbody tr th {\n",
              "        vertical-align: top;\n",
              "    }\n",
              "\n",
              "    .dataframe thead th {\n",
              "        text-align: right;\n",
              "    }\n",
              "</style>\n",
              "<table border=\"1\" class=\"dataframe\">\n",
              "  <thead>\n",
              "    <tr style=\"text-align: right;\">\n",
              "      <th></th>\n",
              "      <th>artist</th>\n",
              "      <th>genre</th>\n",
              "      <th>title</th>\n",
              "      <th>album</th>\n",
              "      <th>year</th>\n",
              "      <th>lyrics</th>\n",
              "      <th>label</th>\n",
              "    </tr>\n",
              "  </thead>\n",
              "  <tbody>\n",
              "    <tr>\n",
              "      <th>0</th>\n",
              "      <td>Nirvana</td>\n",
              "      <td>Rock</td>\n",
              "      <td>You Know You’re Right</td>\n",
              "      <td>Nirvana</td>\n",
              "      <td>2002.0</td>\n",
              "      <td>I will never bother you\\nI will never promise ...</td>\n",
              "      <td>Sadness</td>\n",
              "    </tr>\n",
              "    <tr>\n",
              "      <th>1</th>\n",
              "      <td>Damian Marley</td>\n",
              "      <td>Reggae</td>\n",
              "      <td>Here We Go</td>\n",
              "      <td>Stony Hill</td>\n",
              "      <td>2017.0</td>\n",
              "      <td>Here we go\\nMy big ego is gonna get me in trou...</td>\n",
              "      <td>Tension</td>\n",
              "    </tr>\n",
              "    <tr>\n",
              "      <th>2</th>\n",
              "      <td>The Mission UK</td>\n",
              "      <td>Rock</td>\n",
              "      <td>Jade</td>\n",
              "      <td>Another Fall from Grace</td>\n",
              "      <td>2016.0</td>\n",
              "      <td>She came as Lolita dressed as Venus\\nAnd adorn...</td>\n",
              "      <td>Tenderness</td>\n",
              "    </tr>\n",
              "    <tr>\n",
              "      <th>3</th>\n",
              "      <td>UB40</td>\n",
              "      <td>Reggae</td>\n",
              "      <td>Food For Thought</td>\n",
              "      <td>Signing Off</td>\n",
              "      <td>1980.0</td>\n",
              "      <td>Ivory Madonna, dying in the dust\\nWaiting for ...</td>\n",
              "      <td>Sadness</td>\n",
              "    </tr>\n",
              "    <tr>\n",
              "      <th>4</th>\n",
              "      <td>Johnny Cash</td>\n",
              "      <td>Country</td>\n",
              "      <td>I’ve Been Everywhere</td>\n",
              "      <td>American II: Unchained</td>\n",
              "      <td>1996.0</td>\n",
              "      <td>I was totin' my pack along the dusty Winnemucc...</td>\n",
              "      <td>Sadness</td>\n",
              "    </tr>\n",
              "  </tbody>\n",
              "</table>\n",
              "</div>\n",
              "    <div class=\"colab-df-buttons\">\n",
              "\n",
              "  <div class=\"colab-df-container\">\n",
              "    <button class=\"colab-df-convert\" onclick=\"convertToInteractive('df-5a35ea4c-4975-4c64-8398-634f7952736c')\"\n",
              "            title=\"Convert this dataframe to an interactive table.\"\n",
              "            style=\"display:none;\">\n",
              "\n",
              "  <svg xmlns=\"http://www.w3.org/2000/svg\" height=\"24px\" viewBox=\"0 -960 960 960\">\n",
              "    <path d=\"M120-120v-720h720v720H120Zm60-500h600v-160H180v160Zm220 220h160v-160H400v160Zm0 220h160v-160H400v160ZM180-400h160v-160H180v160Zm440 0h160v-160H620v160ZM180-180h160v-160H180v160Zm440 0h160v-160H620v160Z\"/>\n",
              "  </svg>\n",
              "    </button>\n",
              "\n",
              "  <style>\n",
              "    .colab-df-container {\n",
              "      display:flex;\n",
              "      gap: 12px;\n",
              "    }\n",
              "\n",
              "    .colab-df-convert {\n",
              "      background-color: #E8F0FE;\n",
              "      border: none;\n",
              "      border-radius: 50%;\n",
              "      cursor: pointer;\n",
              "      display: none;\n",
              "      fill: #1967D2;\n",
              "      height: 32px;\n",
              "      padding: 0 0 0 0;\n",
              "      width: 32px;\n",
              "    }\n",
              "\n",
              "    .colab-df-convert:hover {\n",
              "      background-color: #E2EBFA;\n",
              "      box-shadow: 0px 1px 2px rgba(60, 64, 67, 0.3), 0px 1px 3px 1px rgba(60, 64, 67, 0.15);\n",
              "      fill: #174EA6;\n",
              "    }\n",
              "\n",
              "    .colab-df-buttons div {\n",
              "      margin-bottom: 4px;\n",
              "    }\n",
              "\n",
              "    [theme=dark] .colab-df-convert {\n",
              "      background-color: #3B4455;\n",
              "      fill: #D2E3FC;\n",
              "    }\n",
              "\n",
              "    [theme=dark] .colab-df-convert:hover {\n",
              "      background-color: #434B5C;\n",
              "      box-shadow: 0px 1px 3px 1px rgba(0, 0, 0, 0.15);\n",
              "      filter: drop-shadow(0px 1px 2px rgba(0, 0, 0, 0.3));\n",
              "      fill: #FFFFFF;\n",
              "    }\n",
              "  </style>\n",
              "\n",
              "    <script>\n",
              "      const buttonEl =\n",
              "        document.querySelector('#df-5a35ea4c-4975-4c64-8398-634f7952736c button.colab-df-convert');\n",
              "      buttonEl.style.display =\n",
              "        google.colab.kernel.accessAllowed ? 'block' : 'none';\n",
              "\n",
              "      async function convertToInteractive(key) {\n",
              "        const element = document.querySelector('#df-5a35ea4c-4975-4c64-8398-634f7952736c');\n",
              "        const dataTable =\n",
              "          await google.colab.kernel.invokeFunction('convertToInteractive',\n",
              "                                                    [key], {});\n",
              "        if (!dataTable) return;\n",
              "\n",
              "        const docLinkHtml = 'Like what you see? Visit the ' +\n",
              "          '<a target=\"_blank\" href=https://colab.research.google.com/notebooks/data_table.ipynb>data table notebook</a>'\n",
              "          + ' to learn more about interactive tables.';\n",
              "        element.innerHTML = '';\n",
              "        dataTable['output_type'] = 'display_data';\n",
              "        await google.colab.output.renderOutput(dataTable, element);\n",
              "        const docLink = document.createElement('div');\n",
              "        docLink.innerHTML = docLinkHtml;\n",
              "        element.appendChild(docLink);\n",
              "      }\n",
              "    </script>\n",
              "  </div>\n",
              "\n",
              "\n",
              "<div id=\"df-225513ed-b6c5-4367-8546-cde0d6904f91\">\n",
              "  <button class=\"colab-df-quickchart\" onclick=\"quickchart('df-225513ed-b6c5-4367-8546-cde0d6904f91')\"\n",
              "            title=\"Suggest charts.\"\n",
              "            style=\"display:none;\">\n",
              "\n",
              "<svg xmlns=\"http://www.w3.org/2000/svg\" height=\"24px\"viewBox=\"0 0 24 24\"\n",
              "     width=\"24px\">\n",
              "    <g>\n",
              "        <path d=\"M19 3H5c-1.1 0-2 .9-2 2v14c0 1.1.9 2 2 2h14c1.1 0 2-.9 2-2V5c0-1.1-.9-2-2-2zM9 17H7v-7h2v7zm4 0h-2V7h2v10zm4 0h-2v-4h2v4z\"/>\n",
              "    </g>\n",
              "</svg>\n",
              "  </button>\n",
              "\n",
              "<style>\n",
              "  .colab-df-quickchart {\n",
              "      --bg-color: #E8F0FE;\n",
              "      --fill-color: #1967D2;\n",
              "      --hover-bg-color: #E2EBFA;\n",
              "      --hover-fill-color: #174EA6;\n",
              "      --disabled-fill-color: #AAA;\n",
              "      --disabled-bg-color: #DDD;\n",
              "  }\n",
              "\n",
              "  [theme=dark] .colab-df-quickchart {\n",
              "      --bg-color: #3B4455;\n",
              "      --fill-color: #D2E3FC;\n",
              "      --hover-bg-color: #434B5C;\n",
              "      --hover-fill-color: #FFFFFF;\n",
              "      --disabled-bg-color: #3B4455;\n",
              "      --disabled-fill-color: #666;\n",
              "  }\n",
              "\n",
              "  .colab-df-quickchart {\n",
              "    background-color: var(--bg-color);\n",
              "    border: none;\n",
              "    border-radius: 50%;\n",
              "    cursor: pointer;\n",
              "    display: none;\n",
              "    fill: var(--fill-color);\n",
              "    height: 32px;\n",
              "    padding: 0;\n",
              "    width: 32px;\n",
              "  }\n",
              "\n",
              "  .colab-df-quickchart:hover {\n",
              "    background-color: var(--hover-bg-color);\n",
              "    box-shadow: 0 1px 2px rgba(60, 64, 67, 0.3), 0 1px 3px 1px rgba(60, 64, 67, 0.15);\n",
              "    fill: var(--button-hover-fill-color);\n",
              "  }\n",
              "\n",
              "  .colab-df-quickchart-complete:disabled,\n",
              "  .colab-df-quickchart-complete:disabled:hover {\n",
              "    background-color: var(--disabled-bg-color);\n",
              "    fill: var(--disabled-fill-color);\n",
              "    box-shadow: none;\n",
              "  }\n",
              "\n",
              "  .colab-df-spinner {\n",
              "    border: 2px solid var(--fill-color);\n",
              "    border-color: transparent;\n",
              "    border-bottom-color: var(--fill-color);\n",
              "    animation:\n",
              "      spin 1s steps(1) infinite;\n",
              "  }\n",
              "\n",
              "  @keyframes spin {\n",
              "    0% {\n",
              "      border-color: transparent;\n",
              "      border-bottom-color: var(--fill-color);\n",
              "      border-left-color: var(--fill-color);\n",
              "    }\n",
              "    20% {\n",
              "      border-color: transparent;\n",
              "      border-left-color: var(--fill-color);\n",
              "      border-top-color: var(--fill-color);\n",
              "    }\n",
              "    30% {\n",
              "      border-color: transparent;\n",
              "      border-left-color: var(--fill-color);\n",
              "      border-top-color: var(--fill-color);\n",
              "      border-right-color: var(--fill-color);\n",
              "    }\n",
              "    40% {\n",
              "      border-color: transparent;\n",
              "      border-right-color: var(--fill-color);\n",
              "      border-top-color: var(--fill-color);\n",
              "    }\n",
              "    60% {\n",
              "      border-color: transparent;\n",
              "      border-right-color: var(--fill-color);\n",
              "    }\n",
              "    80% {\n",
              "      border-color: transparent;\n",
              "      border-right-color: var(--fill-color);\n",
              "      border-bottom-color: var(--fill-color);\n",
              "    }\n",
              "    90% {\n",
              "      border-color: transparent;\n",
              "      border-bottom-color: var(--fill-color);\n",
              "    }\n",
              "  }\n",
              "</style>\n",
              "\n",
              "  <script>\n",
              "    async function quickchart(key) {\n",
              "      const quickchartButtonEl =\n",
              "        document.querySelector('#' + key + ' button');\n",
              "      quickchartButtonEl.disabled = true;  // To prevent multiple clicks.\n",
              "      quickchartButtonEl.classList.add('colab-df-spinner');\n",
              "      try {\n",
              "        const charts = await google.colab.kernel.invokeFunction(\n",
              "            'suggestCharts', [key], {});\n",
              "      } catch (error) {\n",
              "        console.error('Error during call to suggestCharts:', error);\n",
              "      }\n",
              "      quickchartButtonEl.classList.remove('colab-df-spinner');\n",
              "      quickchartButtonEl.classList.add('colab-df-quickchart-complete');\n",
              "    }\n",
              "    (() => {\n",
              "      let quickchartButtonEl =\n",
              "        document.querySelector('#df-225513ed-b6c5-4367-8546-cde0d6904f91 button');\n",
              "      quickchartButtonEl.style.display =\n",
              "        google.colab.kernel.accessAllowed ? 'block' : 'none';\n",
              "    })();\n",
              "  </script>\n",
              "</div>\n",
              "    </div>\n",
              "  </div>\n"
            ]
          },
          "metadata": {},
          "execution_count": 4
        }
      ],
      "source": [
        "df.head()"
      ]
    },
    {
      "cell_type": "code",
      "execution_count": null,
      "metadata": {
        "id": "VcIXqvoV6Ou2"
      },
      "outputs": [],
      "source": [
        "# load the dataset\n",
        "# texts = df.loc[:, df.columns != 'label']\n",
        "lyrics = df.loc[:,'lyrics'].values"
      ]
    },
    {
      "cell_type": "code",
      "execution_count": null,
      "metadata": {
        "colab": {
          "base_uri": "https://localhost:8080/"
        },
        "id": "TKparsgO6Ou2",
        "outputId": "9ca2754e-685b-489f-d945-016992c88b5a"
      },
      "outputs": [
        {
          "output_type": "execute_result",
          "data": {
            "text/plain": [
              "array(['Sadness', 'Tension', 'Tenderness'], dtype=object)"
            ]
          },
          "metadata": {},
          "execution_count": 6
        }
      ],
      "source": [
        "df.loc[:,'label'].unique()"
      ]
    },
    {
      "cell_type": "code",
      "execution_count": null,
      "metadata": {
        "id": "MbDkQ5RA6Ou3"
      },
      "outputs": [],
      "source": [
        "emotion_dictionary = {'Sadness': 0, 'Tension': 1, 'Tenderness': 2}"
      ]
    },
    {
      "cell_type": "code",
      "execution_count": null,
      "metadata": {
        "id": "XMRaGwD36Ou3"
      },
      "outputs": [],
      "source": [
        "df['new_label'] = df['label'].replace(emotion_dictionary)"
      ]
    },
    {
      "cell_type": "code",
      "execution_count": null,
      "metadata": {
        "id": "u7NfrjPQ6Ou3"
      },
      "outputs": [],
      "source": [
        "labels = df.loc[:,'new_label'].values"
      ]
    },
    {
      "cell_type": "code",
      "execution_count": null,
      "metadata": {
        "colab": {
          "base_uri": "https://localhost:8080/"
        },
        "id": "siqB97yN6Ou4",
        "outputId": "942df6e2-dd4d-4644-8a24-638a1134d0d2"
      },
      "outputs": [
        {
          "output_type": "execute_result",
          "data": {
            "text/plain": [
              "array([0, 1, 2, ..., 1, 2, 0])"
            ]
          },
          "metadata": {},
          "execution_count": 10
        }
      ],
      "source": [
        "labels"
      ]
    },
    {
      "cell_type": "code",
      "execution_count": null,
      "metadata": {
        "scrolled": true,
        "colab": {
          "base_uri": "https://localhost:8080/"
        },
        "id": "Pxj8fghg6Ou4",
        "outputId": "dd314a04-2ee1-48bf-8eda-cc1f32f82780"
      },
      "outputs": [
        {
          "output_type": "execute_result",
          "data": {
            "text/plain": [
              "array([\"I will never bother you\\nI will never promise to\\nI will never follow you\\nI will never bother you\\nNever speak a word again\\nI will crawl away for good\\nI will move away from here\\nYou won't be afraid of fear\\nNo thought was put into this\\nAnd always knew it would come to this\\nThings have never been so swell\\nI have never failed to fail\\n\\nHe-eee-eee-eeey\\nHe-eee-eee-eey\\nHe-eee-eee-ey\\nYou know you're right\\nYou know you're right\\nYou know you're right\\n\\nI'm so warm and calm inside\\nI no longer have to hide\\nLet's talk about someone else\\nSteaming soup against her mouth\\nNothing really bothers her\\nShe just wants to love himself\\nI will move away from here\\nYou won't be afraid of fear\\nNo thought was put into this\\nAlways knew it'd come to this\\nThings have never been so swell\\nI have never failed to fail\\n\\nHe-eee-eee-eey\\nHe-eee-eee-eey\\nHe-eee-eee-eey\\nHe-eee-eee-eey\\nHe-eee-eee-eey\\nYou know you're right\\nYou know you're right\\nYou know you're right\\nYou know you're right\\nYou know you're right\\nYou know you're right\\nYou know you're right\\nYou know you're right\\nYou know you're right\\nYou know you're right\\nYou know you're right\\nYou know you're right\\nYou know you're right\\nYou know you're right\\n(He-eee-eee-eey)\\nYou know your rights\\n(He-eee-eee-eey)\\nYou know your rights\\n(He-eee-eee-eey)\\nYou know your rights\\n(He-eee-eee-eey)\",\n",
              "       \"Here we go\\nMy big ego is gonna get me in trouble\\nTrying to play hero\\nMy jeans can't tight like Michael Phelps speedo\\nWe no play follow fashion, when we lead out\\nNow looky here, my big ideas\\nGonna get me in trouble now amongst my peers\\nBut have no fear, no bother cry tears\\nYou're just miles ahead when I'm ahead light years\\n\\n(Here.. here I come again)\\nGong originally, run fi the grand finale\\n(Have no fear.. for it is only I)\\nI do it regularly, through every hill and valley\\n(I'm here to teach you only truth)\\nIt's Mister Warm and Easy\\nSomebody please believe me\\n(For the things you do, Jah is watching you)\\n\\nMan a wah do some likkle bomboclaated\\nWeh feel like them big 'cause dem album charted\\nWell all bad card will be disregarded\\nNo punk cyaan finish weh what Bob Marley started\\nGong to the Zilla, I'm the Don Die-Hearted\\nAnywhere me go, dem roll out red carpet\\nSome man a buy car and nah no house fi park it\\nNah unify dem selfish like market\\nDem sell out dem souls just to be rewarded\\nBleach out dem skin, dem favour dead to rahtid\\nSoul too corrupt and dem blemish and faulted\\nReal Rastaman we cannot be outsmarted\\nGong's not the one fi a bwoy take chance with\\nAncient Nazarite weh make the Red Sea parted\\nProvide the harvest, in drought and shortage\\nWith Jah by my side I've got all advantage\\n\\n(Here.. here I come again)\\nGong originally, run fi the grand finale\\n(Have no fear.. for it is only I)\\nI do it regularly, through every hill and valley\\n(I'm here to teach you only truth)\\nIt's Mister Warm and Easy\\nSomebody please believe me\\n(For the things you do, Jah is watching you)\\n\\nSo buy your tickets to the show, get there early grab a seat\\nThe real Gong is in the house, everything else counterfeit\\nIf I have not been around, it's a part of my mystique\\nI've been busy so to speak, I've been winning on a streak\\nI've been feeling like a Wednesday, surrounded by the week\\nBe strong alone continue, fi di justice where we seek\\nSo doh follow some DJ cah dem swimming up a creek\\nDem inna deeper shit when time dem an dem maker meet\\nAnd if you buy the bullshit, then don't lose your receipt\\nThem bound fi self destruct, mi ago lowe dem, mek you see it\\nDem sow weh dem a reap, dem think say Jah no seet\\nWhen the stage show full a demon and the club dem full a freak\\nAnd the dancehall full a pagans and dance like dem a Greek\\nDem renk and dem a reek, dem pop down one a week\\nDem always overdweet, but turn the other cheek\\nThe earth is for the meek, huh\\n\\n(Here.. here I come again)\\nGong originally, run fi the grand finale\\n(Have no fear.. for it is only I)\\nI do it regularly, through every hill and valley\\n(I'm here to teach you only truth)\\nIt's Mister Warm and Easy\\nSomebody please believe me\\n(For the things you do, Jah is watching you)\\n\\nMe do a thousand video shooting, ten thousand chariot\\nHundred thousand photo shoot and million radio drop\\nMi deejay til' me hoarse a welcome people to the rock\\nYou think a silver spoon or like it drop inna mi lap\\nMe sign a billion autograph, up to now the tour no stop\\nTrade privacy for privilege, it balance when it swap\\nTony Rebel say a reggae put Jamaica 'pon the map\\nWho am I to disagree when I've been reaping up the crop\\nMy first release was '93, when dem a feed pon Similac\\nFirst Grammy at 23, tell me which one a dem do that\\nAnother tour at 27, add it up and do the maths\\nThe weight weh dem a carry that no heavy like me locks\\nI'm a veteran, the youngest to be exact\\nGhetto people love me bad, I'm guessing opposites attract\\nUptown me born and grow, Stony Hill to mark the spot\\nBig Gong to the Zilla and the return of the mac\",\n",
              "       \"She came as Lolita dressed as Venus\\nAnd adorned with Stars\\nWith her deft allusion and a Universe between Us\\nShe showed me her skill with words and I showed her my Scars\\nDon't mistake kindness for affection, she said\\nDon't ever let the attention go to your Head\\nNo more let Death divide what Life can join Together\\nBut just remember there is nothing that can last Forever\\nAnd Jade is Benediction\\nShe is silent Prayer\\nAnd Jade is Exaltation\\nThe colours that I wear\\nAnd Jade is Contradiction\\nShe is naked but never bare\\nJade is a Work, a work of Fiction\\nNothing more than Castles in the Air\\nThe shorter the leash the harder I will pull\\nMy glass is Empty when once it was Full\\nI wish I could be Jesus and turn water into Wine\\n'Cause all my grapes have withered, withered on the vine\\nWith a smile like Mercury, elusive and fey\\nThere's a Beauty in the night that can't be seen by day\\nShe's a barbed wire Angel insatiable and cruel\\nShe destroys my resistance like the most Dazzling Jewel\\nAnd Jade is Apostasy\\nAbandoned Faith and Hope\\nJade is Hypocrisy\\nShe is Kaleidoscope\\nAnd Jade is Precious Stone\\nImpervious and Rare\\nAnd Jade will never atone\\nFor the Flowers in her Hair\\nAnd Jade never sleeps alone\\nThere's always someone there\\nWith Jade\\nTo rest their Head on her thigh\\nTo make her moist when she is dry\\nTo hold the Breath of every sigh\\nTo pledge their Life and how to Die\\nTo kiss the sleep from her Eyes\\nTo dry the Tears when she Cries\\nAnd Jade is all and Jade is None\\nAnd Jade is Moon and she is Sun\\nAnd Jade is You and Everyone\\nAnd she is Me and and all I've done\\nAnd Jade is Lost and she is Won\\nAnd Jade is the Bullet shot from your Gun ...\",\n",
              "       ...,\n",
              "       \"Standing on the beach\\nWith a gun in my hand\\nStaring at the sea\\nStaring at the sand\\nStaring down the barrel\\nAt the arab on the ground\\nI can see his open mouth\\nBut I hear no sound\\n\\nI'm alive\\nI'm dead\\nI'm the stranger\\nKilling an arab\\n\\nI can turn\\nAnd walk away\\nOr I can fire the gun\\nStaring at the sky\\nStaring at the sun\\nWhichever I chose\\nIt amounts to the same\\nAbsolutely nothing\\n\\n\\nI feel the steel butt jump\\nSmooth in my hand\\nStaring at the sea\\nStaring at the sand\\nStaring at myself\\nReflected in the eyes\\nOf the dead man on the beach\\n(The dead man on the beach)\",\n",
              "       \"A little baby told God\\nHey I'm kinda scared, don't really know if\\nI wanna go down there\\nBecause from here it looks like a little blue ball\\nBut that's a great big place and I'm so small\\nWhy can't I just stay here with you?\\nDid I make you mad, don't you want me, too?'\\nAnd God said, 'Oh child, of course I do\\nBut there's somebody special that's waiting for you'\\nSo hush now baby don’t you cry\\nCuz there’s someone down there waiting who’s only goal in life\\nIs making you sure you’re always going to be alright\\nA loving angel tender tough and strong\\nIt’s almost time to go and meet your Mom\\nNow when she’s talking to you\\nMake sure you listen close\\nCause she’s gonna teach everything you’ll ever need to know\\nLike how to mind your manners to love and laugh and dream\\nAnd she’ll put you on the path that’ll bring you back to me\\nSo hush now baby don’t you cry\\nCuz there’s someone down there waiting who’s only goal in life\\nIs making you sure you’re always going to be alright\\nA loving angel tender tough and strong\\nCome on child it’s time to meet your Mom\",\n",
              "       \"The older I get\\nThe more I think\\nYou only get a minute, better live while you’re in it\\n'Cause it’s gone in a blink\\nAnd the older I get\\nThe truer it is\\nIt’s the people you love, not the money and stuff\\nThat makes you rich\\n\\nAnd if they found a fountain of youth\\nI wouldn’t drink a drop and that’s the truth\\nFunny how it feels I’m just getting to my best years yet\\n\\nThe older I get\\nThe fewer friends I have\\nBut you don’t need a lot when the ones that you got\\nHave always got your back\\nAnd the older I get\\nThe better I am\\nAt knowing when to give\\nAnd when to just not give a damn\\n\\nAnd if they found a fountain of youth\\nI wouldn’t drink a drop and that’s the truth\\nFunny how it feels I’m just getting to my best years yet\\nThe older I get\\n\\n\\nAnd I don’t mind all the lines\\nFrom all the times I’ve laughed and cried\\nSouvenirs and little signs of the life I’ve lived\\n\\nThe older I get\\nThe longer I pray\\nI don’t know why, I guess that I\\nGot more to say\\nAnd the older I get\\nThe more thankful I feel\\nFor the life I’ve had, and all the life I’m living still\"],\n",
              "      dtype=object)"
            ]
          },
          "metadata": {},
          "execution_count": 11
        }
      ],
      "source": [
        "lyrics"
      ]
    },
    {
      "cell_type": "code",
      "execution_count": null,
      "metadata": {
        "colab": {
          "base_uri": "https://localhost:8080/"
        },
        "id": "TFTNBQKc6Ou4",
        "outputId": "5f47b83d-9a96-4106-d015-b917e522f37f"
      },
      "outputs": [
        {
          "output_type": "execute_result",
          "data": {
            "text/plain": [
              "array([0, 1, 2])"
            ]
          },
          "metadata": {},
          "execution_count": 12
        }
      ],
      "source": [
        "np.unique(labels)"
      ]
    },
    {
      "cell_type": "code",
      "execution_count": null,
      "metadata": {
        "colab": {
          "base_uri": "https://localhost:8080/"
        },
        "id": "lnZPkzRI6Ou5",
        "outputId": "1efa7a0f-b34f-4e91-c5a6-3c15d4247a26"
      },
      "outputs": [
        {
          "output_type": "stream",
          "name": "stdout",
          "text": [
            "Average len of songs is  347.5155172413793\n",
            "the maximum length of the lyrics inputs is  2061\n"
          ]
        }
      ],
      "source": [
        "# Check the maximum length of texts\n",
        "max_len = -1\n",
        "num_songs = 0\n",
        "total_len = 0\n",
        "for example in lyrics:\n",
        "    num_songs += 1\n",
        "    total_len += len(example.split())\n",
        "    if len(example.split()) > max_len:\n",
        "        max_len = len(example.split())\n",
        "\n",
        "print('Average len of songs is ', total_len/num_songs)\n",
        "print('the maximum length of the lyrics inputs is ', max_len)"
      ]
    },
    {
      "cell_type": "markdown",
      "metadata": {
        "id": "1y6euCBH6Ou5"
      },
      "source": [
        "### 1.2 Data Processing\n"
      ]
    },
    {
      "cell_type": "code",
      "execution_count": null,
      "metadata": {
        "colab": {
          "base_uri": "https://localhost:8080/"
        },
        "id": "GTlwm-6v6Ou5",
        "outputId": "45d96359-5a7b-44d8-8aed-1c65138274c2"
      },
      "outputs": [
        {
          "output_type": "stream",
          "name": "stdout",
          "text": [
            "Found 17125 unique tokens.\n",
            "\n"
          ]
        }
      ],
      "source": [
        "# Convert the texts and labels into numeric tensors\n",
        "\n",
        "maxlen = 500\n",
        "max_words = 50000  # We will only consider the top 10,000 words (vocabulary) in the dataset (dictionary)\n",
        "\n",
        "tokenizer = Tokenizer(num_words=max_words)\n",
        "tokenizer.fit_on_texts(lyrics)\n",
        "sequences = tokenizer.texts_to_sequences(lyrics)\n",
        "\n",
        "word_index = tokenizer.word_index\n",
        "print('Found %s unique tokens.' % len(word_index))\n",
        "\n",
        "data = pad_sequences(sequences, maxlen=maxlen)\n",
        "\n",
        "# labels = np.asarray(labels)\n",
        "# print('Shape of data tensor:', data.shape)\n",
        "# print('Shape of label tensor:', labels.shape)\n",
        "print()"
      ]
    },
    {
      "cell_type": "markdown",
      "metadata": {
        "id": "7e4BpfZJ6Ou6"
      },
      "source": [
        "## Step 2 – Detecting emotion using NRCLex\n"
      ]
    },
    {
      "cell_type": "markdown",
      "source": [
        "### Installing further dependencies for NRCLex\n"
      ],
      "metadata": {
        "id": "PVU7HG8Nea42"
      }
    },
    {
      "cell_type": "code",
      "execution_count": null,
      "metadata": {
        "id": "JUL6LqtQ6Ou6"
      },
      "outputs": [],
      "source": [
        "import pandas as pd\n",
        "import gzip\n",
        "import json\n",
        "import nltk\n",
        "from nrclex import NRCLex\n",
        "from nltk.tokenize import sent_tokenize, word_tokenize\n",
        "import csv\n",
        "from nltk.stem import WordNetLemmatizer\n",
        "import copy\n",
        "import math\n",
        "import sys\n",
        "import matplotlib.pyplot as plt\n",
        "import numpy as np\n",
        "import cv2"
      ]
    },
    {
      "cell_type": "code",
      "source": [
        "nltk.download('punkt')\n",
        "nltk.download('stopwords')"
      ],
      "metadata": {
        "colab": {
          "base_uri": "https://localhost:8080/"
        },
        "id": "pEETjV2m7K1C",
        "outputId": "763847fe-a377-433c-8321-87ca9af9f4f8"
      },
      "execution_count": null,
      "outputs": [
        {
          "output_type": "stream",
          "name": "stderr",
          "text": [
            "[nltk_data] Downloading package punkt to /root/nltk_data...\n",
            "[nltk_data]   Unzipping tokenizers/punkt.zip.\n",
            "[nltk_data] Downloading package stopwords to /root/nltk_data...\n",
            "[nltk_data]   Unzipping corpora/stopwords.zip.\n"
          ]
        },
        {
          "output_type": "execute_result",
          "data": {
            "text/plain": [
              "True"
            ]
          },
          "metadata": {},
          "execution_count": 16
        }
      ]
    },
    {
      "cell_type": "markdown",
      "metadata": {
        "id": "fKx-GHSo6Ou7"
      },
      "source": [
        "### Categorisation Converting and Weightage\n",
        "- \"amazement\" - surprise 0.5, joy 0.3, trust 0.1, positive 0.1\n",
        "- \"calmness\" - trust 0.6, anticip 0.2, joy 0.1, positive 0.1\n",
        "- \"joyful activation\" - joy 0.5, trust 0.3, surprise 0.1, positive 0.1\n",
        "- \"solemnity\" - sadness 0.6, trust 0.2, fear 0.1, negative 0.1\n",
        "- \"nostalgia\" - sadness 0.3, joy 0.3, trust 0.3, positive 0.1\n",
        "- \"power\" - fear 0.4, anticip 0.3, trust 0.2,  positive 0.1\n",
        "- \"tenderness\" - trust 0.6, anticip 0.2, joy 0.1, positive 0.1\n",
        "- \"tension\" - anger 0.5, anticip 0.3, disgust 0.1, negative 0.1\n",
        "- \"sadness\" - sadness 0.5, disgust 0.3, fear 0.1, negative 0.1\n",
        "\n",
        "EMOTIONS=[\"fear\", \"anger\", \"anticip\", \"trust\", \"surprise\", \"positive\", \"negative\", \"sadness\", \"disgust\", \"joy\"]"
      ]
    },
    {
      "cell_type": "code",
      "source": [
        "EMOTIONS=[\"fear\", \"anger\", \"anticip\", \"trust\", \"surprise\", \"positive\", \"negative\", \"sadness\", \"disgust\", \"joy\"]\n",
        "# converted based on my own intuition lol\n",
        "# also matched based on steph's research paper\n",
        "# https://www.researchgate.net/publication/265596754_The_Emotionality_of_Sonic_Events_Testing_the_Geneva_Emotional_Music_Scale_GEMS_for_Popular_and_Electroacoustic_Music\n",
        "converting_emotions = {\n",
        "    \"amazement\": {\n",
        "        \"surprise\": 0.5,\n",
        "        \"joy\": 0.3,\n",
        "        \"trust\": 0.1,\n",
        "        \"positive\": 0.1,\n",
        "    },\n",
        "    \"calmness\": {\n",
        "        \"trust\": 0.5,\n",
        "        \"anticip\": 0.2,\n",
        "        \"joy\": 0.1,\n",
        "        \"positive\": 0.1,\n",
        "    },\n",
        "    \"joyful activation\": {\n",
        "        \"joy\": 0.5,\n",
        "        \"trust\": 0.3,\n",
        "        \"surprise\": 0.1,\n",
        "        \"positive\": 0.1,\n",
        "    },\n",
        "    \"solemnity\": {\n",
        "        \"sadness\": 0.6,\n",
        "        \"trust\": 0.2,\n",
        "        \"fear\": 0.1,\n",
        "        \"negative\": 0.1,\n",
        "    },\n",
        "    \"nostalgia\": {\n",
        "        \"sadness\": 0.3,\n",
        "        \"joy\": 0.3,\n",
        "        \"trust\": 0.3,\n",
        "        \"positive\": 0.1,\n",
        "    },\n",
        "    \"power\": {\n",
        "        \"fear\": 0.4,\n",
        "        \"anticip\": 0.3,\n",
        "        \"trust\": 0.2,\n",
        "        \"positive\": 0.1,\n",
        "    },\n",
        "    \"tenderness\": {\n",
        "        \"trust\": 0.6,\n",
        "        \"anticip\": 0.2,\n",
        "        \"joy\": 0.1,\n",
        "        \"positive\": 0.1,\n",
        "    },\n",
        "    \"tension\": {\n",
        "        \"anger\": 0.5,\n",
        "        \"anticip\": 0.3,\n",
        "        \"digust\": 0.1,\n",
        "        \"negative\": 0.1,\n",
        "    },\n",
        "    \"sadness\": {\n",
        "        \"sadness\": 0.5,\n",
        "        \"disgust\": 0.3,\n",
        "        \"fear\": 0.1,\n",
        "        \"negative\": 0.1,\n",
        "    },\n",
        "}\n",
        "\n",
        "converted_emo = list(converting_emotions.keys())\n",
        "converted_emo"
      ],
      "metadata": {
        "colab": {
          "base_uri": "https://localhost:8080/"
        },
        "id": "3cHnugKv7QfU",
        "outputId": "dba1aba5-f413-4752-f787-5f6b2b4b72f6"
      },
      "execution_count": null,
      "outputs": [
        {
          "output_type": "execute_result",
          "data": {
            "text/plain": [
              "['amazement',\n",
              " 'calmness',\n",
              " 'joyful activation',\n",
              " 'solemnity',\n",
              " 'nostalgia',\n",
              " 'power',\n",
              " 'tenderness',\n",
              " 'tension',\n",
              " 'sadness']"
            ]
          },
          "metadata": {},
          "execution_count": 17
        }
      ]
    },
    {
      "cell_type": "markdown",
      "source": [
        "### Function for getting emotion from text"
      ],
      "metadata": {
        "id": "p4vYY71rewcW"
      }
    },
    {
      "cell_type": "code",
      "execution_count": null,
      "metadata": {
        "colab": {
          "base_uri": "https://localhost:8080/"
        },
        "id": "rQDr-Shj6Ou7",
        "outputId": "d313cacd-2ee8-4e74-e03f-d7a1e902893a"
      },
      "outputs": [
        {
          "output_type": "stream",
          "name": "stdout",
          "text": [
            "['fear', 'anger', 'anticip', 'trust', 'surprise', 'positive', 'negative', 'sadness', 'disgust', 'joy']\n",
            "{'positive': 0.21212121212121213, 'negative': 0.21212121212121213, 'fear': 0.15151515151515152, 'anticip': 0.09090909090909091, 'trust': 0.09090909090909091, 'joy': 0.09090909090909091, 'anger': 0.06060606060606061, 'surprise': 0.06060606060606061, 'disgust': 0.030303030303030304, 'sadness': 0.0}\n"
          ]
        },
        {
          "output_type": "execute_result",
          "data": {
            "text/plain": [
              "10"
            ]
          },
          "metadata": {},
          "execution_count": 18
        }
      ],
      "source": [
        "'''\n",
        "takes in text ands output values for each emotion fear, anger, anticipation, trust, surprise, positive, negative, sadness, disgust, joy\n",
        "also handels a bug in the library where anticipation may be 0.0 and the true value is given at the end of the tuplr\n",
        "'''\n",
        "def get_emotion(text):\n",
        "    # Create object\n",
        "    emotion = NRCLex(text)\n",
        "\n",
        "    # Classify emotion\n",
        "    emotions_values_dic=emotion.affect_frequencies\n",
        "    #print('\\n\\n', text[i], ': ', emotions_values)\n",
        "    # top_emotions = emotion.top_emotions\n",
        "\n",
        "    emotion_val_list=[]\n",
        "    new_emotion_dict = {}\n",
        "\n",
        "    for i in range(10):\n",
        "        emotion_val_list.append(emotions_values_dic[EMOTIONS[i]])\n",
        "\n",
        "    #handle bug\n",
        "    if len(emotions_values_dic)>10:\n",
        "        #print(\"bug\")\n",
        "        emotion_val_list[2]=emotions_values_dic[\"anticipation\"]\n",
        "\n",
        "    for i in range(len(emotion_val_list)):\n",
        "      new_emotion_dict[EMOTIONS[i]] = emotion_val_list[i]\n",
        "\n",
        "    sorted_emotions = sorted(new_emotion_dict.items(), key=lambda x:x[1], reverse=True)\n",
        "    converted_dict = dict(sorted_emotions)\n",
        "\n",
        "    return converted_dict\n",
        "\n",
        "\n",
        "e=get_emotion(\"I will never bother you\\nI will never promise to\\nI will never follow you\\nI will never bother you\\nNever speak a word again\\nI will crawl away for good\\nI will move away from here\\nYou won't be afraid of fear\\nNo thought was put into this\\nAnd always knew it would come to this\\nThings have never been so swell\\nI have never failed to fail\\n\\nHe-eee-eee-eeey\\nHe-eee-eee-eey\\nHe-eee-eee-ey\\nYou know you're right\\nYou know you're right\\nYou know you're right\\n\\nI'm so warm and calm inside\\nI no longer have to hide\\nLet's talk about someone else\\nSteaming soup against her mouth\\nNothing really bothers her\\nShe just wants to love himself\\nI will move away from here\\nYou won't be afraid of fear\\nNo thought was put into this\\nAlways knew it'd come to this\\nThings have never been so swell\\nI have never failed to fail\\n\\nHe-eee-eee-eey\\nHe-eee-eee-eey\\nHe-eee-eee-eey\\nHe-eee-eee-eey\\nHe-eee-eee-eey\\nYou know you're right\\nYou know you're right\\nYou know you're right\\nYou know you're right\\nYou know you're right\\nYou know you're right\\nYou know you're right\\nYou know you're right\\nYou know you're right\\nYou know you're right\\nYou know you're right\\nYou know you're right\\nYou know you're right\\nYou know you're right\\n(He-eee-eee-eey)\\nYou know your rights\\n(He-eee-eee-eey)\\nYou know your rights\\n(He-eee-eee-eey)\\nYou know your rights\\n(He-eee-eee-eey)\")\n",
        "print(EMOTIONS)\n",
        "print(e)\n",
        "len(e)"
      ]
    },
    {
      "cell_type": "code",
      "source": [
        "import random\n",
        "\n",
        "def get_top_emotions(emotion_dict):\n",
        "  new_dict = {}\n",
        "  e_dict = emotion_dict\n",
        "  if e_dict[\"positive\"] > e_dict[\"negative\"]:\n",
        "    e_dict.pop(\"negative\")\n",
        "  elif e_dict[\"positive\"] < e_dict[\"negative\"]:\n",
        "    e_dict.pop(\"positive\")\n",
        "  else:\n",
        "    r = random.randint(0,1)\n",
        "    if r == 0:\n",
        "      e_dict.pop(\"positive\")\n",
        "    else:\n",
        "      e_dict.pop(\"negative\")\n",
        "\n",
        "  for k, v in e_dict.items():\n",
        "    if len(new_dict) > 4:\n",
        "      continue\n",
        "    else:\n",
        "      new_dict[k] = v\n",
        "  return new_dict\n",
        "\n",
        "top_emotions = get_top_emotions(e)"
      ],
      "metadata": {
        "id": "zqvdvvSXDy3G"
      },
      "execution_count": null,
      "outputs": []
    },
    {
      "cell_type": "markdown",
      "source": [
        "We will be randomising the positive and negative weightage if both are equal"
      ],
      "metadata": {
        "id": "Ij9LnNJPe2KJ"
      }
    },
    {
      "cell_type": "code",
      "source": [
        "def matching_emotions(top_emotions_dict):\n",
        "  single_label = \"\"\n",
        "  max_count = 0\n",
        "  for k, v in converting_emotions.items():\n",
        "    count = 0\n",
        "    for vk, vv in v.items():\n",
        "      if vk in top_emotions_dict:\n",
        "        count += 1\n",
        "    if count > max_count:\n",
        "      single_label = k\n",
        "      max_count = count\n",
        "    count = 0\n",
        "  return single_label\n",
        "\n",
        "print(top_emotions)\n",
        "matching_emotions(top_emotions)"
      ],
      "metadata": {
        "colab": {
          "base_uri": "https://localhost:8080/",
          "height": 52
        },
        "id": "5MMxHWwQGlkn",
        "outputId": "07e7edc2-5956-4467-ad4b-1d735267763f"
      },
      "execution_count": null,
      "outputs": [
        {
          "output_type": "stream",
          "name": "stdout",
          "text": [
            "{'positive': 0.21212121212121213, 'fear': 0.15151515151515152, 'anticip': 0.09090909090909091, 'trust': 0.09090909090909091, 'joy': 0.09090909090909091}\n"
          ]
        },
        {
          "output_type": "execute_result",
          "data": {
            "text/plain": [
              "'calmness'"
            ],
            "application/vnd.google.colaboratory.intrinsic+json": {
              "type": "string"
            }
          },
          "metadata": {},
          "execution_count": 20
        }
      ]
    },
    {
      "cell_type": "markdown",
      "source": [
        "## Data Sampling\n"
      ],
      "metadata": {
        "id": "_wpAZnCDReDW"
      }
    },
    {
      "cell_type": "code",
      "source": [
        "from nltk.corpus import stopwords\n",
        "from nltk.tokenize import word_tokenize\n",
        "\n",
        "all_lyrics = list(df[\"lyrics\"])\n",
        "actual_emotion_listdf = list(df[\"label\"])\n",
        "actual_emotion_list = []\n",
        "predicted_emotion_list = []\n",
        "stop_words = set(stopwords.words('english'))\n",
        "\n",
        "for lyr in all_lyrics:\n",
        "  word_tokens = word_tokenize(lyr)\n",
        "  # converts the words in word_tokens to lower case and then checks whether\n",
        "  filtered_sentence = [w for w in word_tokens if not w.lower() in stop_words]\n",
        "  new_lyr = \" \".join(filtered_sentence)\n",
        "\n",
        "  e_dict = get_emotion(new_lyr)\n",
        "  top_emo = get_top_emotions(e_dict)\n",
        "  pe = matching_emotions(top_emo)\n",
        "  predicted_emotion_list.append(pe)\n",
        "\n",
        "for lyr in actual_emotion_listdf:\n",
        "  actual_emotion_list.append(lyr.lower())\n",
        "print(actual_emotion_list)\n",
        "print(predicted_emotion_list)"
      ],
      "metadata": {
        "colab": {
          "base_uri": "https://localhost:8080/"
        },
        "id": "JeA50yThRmtg",
        "outputId": "c662a663-23bd-45ba-a027-19f6b516acdd"
      },
      "execution_count": null,
      "outputs": [
        {
          "output_type": "stream",
          "name": "stdout",
          "text": [
            "['sadness', 'tension', 'tenderness', 'sadness', 'sadness', 'sadness', 'tenderness', 'sadness', 'tenderness', 'tenderness', 'sadness', 'sadness', 'sadness', 'tension', 'sadness', 'sadness', 'sadness', 'tenderness', 'sadness', 'sadness', 'tenderness', 'sadness', 'sadness', 'tension', 'tenderness', 'sadness', 'sadness', 'tension', 'sadness', 'tenderness', 'tension', 'sadness', 'tenderness', 'sadness', 'tenderness', 'tension', 'sadness', 'tension', 'sadness', 'tenderness', 'sadness', 'sadness', 'tension', 'tenderness', 'tension', 'sadness', 'sadness', 'sadness', 'tension', 'sadness', 'tension', 'tension', 'tenderness', 'sadness', 'tenderness', 'sadness', 'sadness', 'sadness', 'tenderness', 'tenderness', 'tension', 'tenderness', 'sadness', 'tension', 'sadness', 'tension', 'tenderness', 'tenderness', 'tension', 'tenderness', 'tension', 'sadness', 'sadness', 'tenderness', 'sadness', 'tension', 'sadness', 'tenderness', 'sadness', 'tenderness', 'tension', 'sadness', 'sadness', 'sadness', 'tenderness', 'tension', 'tension', 'sadness', 'tenderness', 'tension', 'tension', 'sadness', 'tension', 'tenderness', 'tension', 'sadness', 'sadness', 'tenderness', 'sadness', 'tension', 'tension', 'sadness', 'tenderness', 'sadness', 'sadness', 'sadness', 'tension', 'sadness', 'sadness', 'sadness', 'sadness', 'sadness', 'tenderness', 'tenderness', 'sadness', 'sadness', 'sadness', 'tension', 'sadness', 'tenderness', 'sadness', 'sadness', 'sadness', 'tenderness', 'sadness', 'tension', 'sadness', 'tenderness', 'sadness', 'tension', 'sadness', 'sadness', 'tenderness', 'sadness', 'sadness', 'sadness', 'tension', 'sadness', 'tension', 'tension', 'sadness', 'sadness', 'tenderness', 'sadness', 'tension', 'tension', 'sadness', 'tension', 'sadness', 'tenderness', 'sadness', 'tension', 'sadness', 'tension', 'tenderness', 'sadness', 'tension', 'sadness', 'tenderness', 'sadness', 'tension', 'tenderness', 'tension', 'tension', 'tension', 'tenderness', 'tension', 'tenderness', 'tenderness', 'sadness', 'sadness', 'sadness', 'sadness', 'tension', 'sadness', 'tenderness', 'sadness', 'sadness', 'sadness', 'sadness', 'tension', 'sadness', 'tenderness', 'tenderness', 'tenderness', 'tenderness', 'tension', 'sadness', 'tenderness', 'tenderness', 'tenderness', 'tenderness', 'sadness', 'sadness', 'tenderness', 'sadness', 'sadness', 'sadness', 'sadness', 'tenderness', 'tenderness', 'tension', 'tenderness', 'sadness', 'sadness', 'tenderness', 'tension', 'sadness', 'tension', 'tenderness', 'sadness', 'tenderness', 'tenderness', 'tenderness', 'tension', 'tenderness', 'tension', 'sadness', 'tension', 'tenderness', 'tenderness', 'sadness', 'tenderness', 'tenderness', 'sadness', 'sadness', 'sadness', 'tension', 'tenderness', 'sadness', 'sadness', 'sadness', 'sadness', 'tension', 'sadness', 'tenderness', 'sadness', 'sadness', 'sadness', 'sadness', 'tenderness', 'sadness', 'sadness', 'sadness', 'sadness', 'tension', 'sadness', 'sadness', 'tenderness', 'sadness', 'sadness', 'sadness', 'sadness', 'tension', 'tension', 'sadness', 'sadness', 'sadness', 'tenderness', 'tenderness', 'sadness', 'tenderness', 'sadness', 'tension', 'tenderness', 'sadness', 'tension', 'tenderness', 'sadness', 'sadness', 'tenderness', 'tension', 'sadness', 'sadness', 'tension', 'tenderness', 'sadness', 'tenderness', 'tension', 'tension', 'tenderness', 'tenderness', 'tenderness', 'sadness', 'sadness', 'tenderness', 'sadness', 'sadness', 'tenderness', 'sadness', 'tension', 'tension', 'sadness', 'sadness', 'sadness', 'tenderness', 'tension', 'tension', 'sadness', 'tension', 'tenderness', 'tenderness', 'tenderness', 'tension', 'tenderness', 'tenderness', 'tension', 'sadness', 'tension', 'sadness', 'sadness', 'sadness', 'tension', 'tenderness', 'tenderness', 'sadness', 'tenderness', 'sadness', 'sadness', 'sadness', 'tenderness', 'tenderness', 'tenderness', 'sadness', 'sadness', 'sadness', 'tenderness', 'sadness', 'tenderness', 'tenderness', 'tenderness', 'sadness', 'tenderness', 'tenderness', 'sadness', 'tenderness', 'sadness', 'tenderness', 'sadness', 'tension', 'sadness', 'tenderness', 'tenderness', 'sadness', 'sadness', 'tension', 'tension', 'sadness', 'sadness', 'sadness', 'tension', 'tenderness', 'sadness', 'sadness', 'tension', 'tension', 'tenderness', 'tension', 'tension', 'tenderness', 'sadness', 'tenderness', 'tension', 'sadness', 'tension', 'tenderness', 'tenderness', 'sadness', 'tension', 'tenderness', 'tenderness', 'tension', 'sadness', 'sadness', 'tension', 'sadness', 'sadness', 'sadness', 'sadness', 'sadness', 'sadness', 'sadness', 'tenderness', 'sadness', 'sadness', 'sadness', 'sadness', 'sadness', 'sadness', 'sadness', 'tenderness', 'sadness', 'tension', 'sadness', 'sadness', 'tension', 'tension', 'tenderness', 'sadness', 'tension', 'tension', 'tension', 'tenderness', 'tenderness', 'sadness', 'tension', 'sadness', 'sadness', 'sadness', 'tension', 'tenderness', 'sadness', 'sadness', 'sadness', 'tension', 'tenderness', 'tenderness', 'tension', 'sadness', 'tension', 'tenderness', 'tenderness', 'tenderness', 'sadness', 'sadness', 'sadness', 'tenderness', 'sadness', 'sadness', 'tenderness', 'sadness', 'tenderness', 'tension', 'tension', 'tenderness', 'sadness', 'tension', 'sadness', 'tension', 'tension', 'sadness', 'tension', 'tenderness', 'tension', 'tenderness', 'tension', 'tenderness', 'tension', 'sadness', 'sadness', 'tension', 'tension', 'tenderness', 'sadness', 'sadness', 'sadness', 'sadness', 'tension', 'sadness', 'sadness', 'tenderness', 'tenderness', 'tension', 'sadness', 'sadness', 'tenderness', 'tension', 'tenderness', 'tension', 'sadness', 'sadness', 'tenderness', 'tenderness', 'tension', 'tension', 'tenderness', 'sadness', 'tension', 'tension', 'sadness', 'tenderness', 'sadness', 'tenderness', 'tension', 'tension', 'sadness', 'sadness', 'sadness', 'sadness', 'sadness', 'tenderness', 'sadness', 'sadness', 'tenderness', 'sadness', 'sadness', 'sadness', 'sadness', 'sadness', 'tenderness', 'tenderness', 'tension', 'tenderness', 'tension', 'tenderness', 'sadness', 'tenderness', 'sadness', 'sadness', 'tension', 'tenderness', 'tension', 'sadness', 'sadness', 'sadness', 'sadness', 'tenderness', 'tenderness', 'sadness', 'sadness', 'tenderness', 'sadness', 'tenderness', 'sadness', 'tension', 'sadness', 'tenderness', 'sadness', 'tenderness', 'sadness', 'sadness', 'tension', 'sadness', 'sadness', 'tenderness', 'tenderness', 'tenderness', 'tension', 'sadness', 'sadness', 'tension', 'tenderness', 'sadness', 'tension', 'sadness', 'sadness', 'sadness', 'tenderness', 'tenderness', 'sadness', 'sadness', 'tension', 'sadness', 'sadness', 'tension', 'sadness', 'sadness', 'sadness', 'sadness', 'sadness', 'tenderness', 'sadness', 'tension', 'sadness', 'tension', 'tenderness', 'sadness', 'sadness', 'tenderness', 'sadness', 'tenderness', 'tension', 'sadness', 'tenderness', 'tenderness', 'sadness', 'tension', 'tenderness', 'tension', 'sadness', 'tension', 'sadness', 'sadness', 'sadness', 'tension', 'sadness', 'tension', 'tenderness', 'tenderness', 'sadness', 'tenderness', 'tenderness', 'tension', 'tenderness', 'sadness', 'tenderness', 'tension', 'sadness', 'tension', 'sadness', 'sadness', 'sadness', 'tenderness', 'sadness', 'sadness', 'sadness', 'tension', 'sadness', 'tension', 'sadness', 'sadness', 'sadness', 'sadness', 'sadness', 'sadness', 'sadness', 'sadness', 'sadness', 'sadness', 'tension', 'tenderness', 'sadness', 'tenderness', 'sadness', 'tenderness', 'sadness', 'sadness', 'tenderness', 'tension', 'tension', 'sadness', 'tension', 'sadness', 'tenderness', 'sadness', 'tenderness', 'tenderness', 'tension', 'tension', 'sadness', 'tension', 'tenderness', 'sadness', 'tenderness', 'sadness', 'sadness', 'sadness', 'tension', 'tenderness', 'tenderness', 'tenderness', 'sadness', 'sadness', 'tenderness', 'tenderness', 'tenderness', 'tenderness', 'tenderness', 'sadness', 'tenderness', 'tension', 'sadness', 'sadness', 'sadness', 'sadness', 'sadness', 'sadness', 'tension', 'tension', 'tension', 'sadness', 'sadness', 'tenderness', 'tenderness', 'sadness', 'tension', 'sadness', 'tension', 'tension', 'tension', 'sadness', 'tension', 'tension', 'tenderness', 'sadness', 'tension', 'sadness', 'sadness', 'sadness', 'tension', 'tenderness', 'tension', 'sadness', 'sadness', 'sadness', 'tenderness', 'tension', 'tension', 'sadness', 'sadness', 'tension', 'sadness', 'tenderness', 'tenderness', 'sadness', 'tension', 'tension', 'sadness', 'tenderness', 'tenderness', 'tension', 'tenderness', 'sadness', 'sadness', 'tension', 'tenderness', 'sadness', 'tenderness', 'tenderness', 'tension', 'sadness', 'sadness', 'tenderness', 'tenderness', 'tenderness', 'sadness', 'tenderness', 'sadness', 'sadness', 'sadness', 'tenderness', 'sadness', 'tenderness', 'tension', 'tenderness', 'sadness', 'sadness', 'tension', 'sadness', 'tenderness', 'tenderness', 'sadness', 'tension', 'tenderness', 'sadness', 'tension', 'sadness', 'tension', 'sadness', 'sadness', 'sadness', 'sadness', 'tenderness', 'sadness', 'tenderness', 'tenderness', 'tenderness', 'sadness', 'sadness', 'tension', 'sadness', 'sadness', 'tenderness', 'sadness', 'sadness', 'tension', 'tenderness', 'sadness', 'tenderness', 'tenderness', 'tenderness', 'sadness', 'sadness', 'tension', 'sadness', 'sadness', 'tension', 'sadness', 'tension', 'tenderness', 'tenderness', 'sadness', 'sadness', 'sadness', 'tension', 'tension', 'tenderness', 'sadness', 'tenderness', 'tension', 'sadness', 'tenderness', 'tension', 'tension', 'sadness', 'sadness', 'tenderness', 'tenderness', 'sadness', 'tenderness', 'tenderness', 'tenderness', 'tenderness', 'sadness', 'sadness', 'sadness', 'sadness', 'sadness', 'tenderness', 'tension', 'sadness', 'sadness', 'sadness', 'tension', 'sadness', 'sadness', 'tension', 'sadness', 'tension', 'sadness', 'tension', 'tension', 'sadness', 'sadness', 'tension', 'sadness', 'sadness', 'sadness', 'tension', 'tenderness', 'sadness', 'tension', 'tension', 'tenderness', 'tension', 'sadness', 'tension', 'sadness', 'tenderness', 'sadness', 'tenderness', 'sadness', 'sadness', 'tenderness', 'tenderness', 'sadness', 'tension', 'sadness', 'tension', 'sadness', 'sadness', 'tenderness', 'sadness', 'tension', 'tension', 'tenderness', 'tension', 'sadness', 'sadness', 'sadness', 'tension', 'sadness', 'sadness', 'tension', 'sadness', 'tenderness', 'sadness', 'sadness', 'sadness', 'sadness', 'sadness', 'tenderness', 'tenderness', 'tenderness', 'sadness', 'tenderness', 'sadness', 'tenderness', 'sadness', 'tenderness', 'sadness', 'sadness', 'sadness', 'tension', 'sadness', 'tenderness', 'tenderness', 'tension', 'tenderness', 'sadness', 'tension', 'tension', 'sadness', 'sadness', 'tenderness', 'sadness', 'sadness', 'tension', 'sadness', 'tension', 'sadness', 'tenderness', 'tension', 'sadness', 'tension', 'tenderness', 'sadness', 'tenderness', 'sadness', 'sadness', 'sadness', 'sadness', 'sadness', 'tension', 'sadness', 'tenderness', 'sadness', 'tenderness', 'tenderness', 'tenderness', 'tenderness', 'sadness', 'tension', 'tenderness', 'tenderness', 'sadness', 'tension', 'sadness', 'tenderness', 'sadness', 'sadness', 'sadness', 'tenderness', 'sadness', 'tenderness', 'sadness', 'tenderness', 'tenderness', 'tenderness', 'tenderness', 'tension', 'tenderness', 'sadness', 'tension', 'tenderness', 'tenderness', 'tension', 'sadness', 'tension', 'sadness', 'sadness', 'tension', 'tension', 'sadness', 'tension', 'tension', 'sadness', 'sadness', 'sadness', 'tenderness', 'sadness', 'tenderness', 'tenderness', 'tension', 'sadness', 'tension', 'tenderness', 'tenderness', 'sadness', 'tension', 'tension', 'tenderness', 'sadness', 'tenderness', 'tension', 'sadness', 'sadness', 'tenderness', 'sadness', 'tension', 'sadness', 'tension', 'sadness', 'sadness', 'sadness', 'tension', 'tenderness', 'sadness', 'tension', 'sadness', 'tension', 'tenderness', 'sadness', 'sadness', 'sadness', 'tension', 'sadness', 'tenderness', 'sadness', 'sadness', 'sadness', 'tenderness', 'tenderness', 'sadness', 'tenderness', 'sadness', 'sadness', 'sadness', 'sadness', 'tenderness', 'sadness', 'tension', 'tension', 'tenderness', 'sadness', 'sadness', 'sadness', 'tenderness', 'tenderness', 'tenderness', 'sadness', 'sadness', 'tenderness', 'sadness', 'tension', 'sadness', 'tenderness', 'sadness', 'sadness', 'sadness', 'tenderness', 'sadness', 'sadness', 'tension', 'sadness', 'tension', 'tension', 'sadness', 'sadness', 'sadness', 'sadness', 'sadness', 'sadness', 'tension', 'sadness', 'sadness', 'tension', 'tenderness', 'sadness', 'tenderness', 'tension', 'sadness', 'sadness', 'sadness', 'sadness', 'sadness', 'sadness', 'tension', 'sadness', 'sadness', 'tenderness', 'tenderness', 'sadness', 'tenderness', 'tension', 'sadness', 'sadness', 'tenderness', 'sadness', 'tension', 'tenderness', 'sadness', 'sadness', 'sadness', 'sadness', 'tenderness', 'sadness', 'sadness', 'sadness', 'tenderness', 'tenderness', 'sadness', 'sadness', 'sadness', 'sadness', 'sadness', 'tenderness', 'sadness', 'sadness', 'sadness', 'tension', 'sadness', 'tension', 'sadness', 'sadness', 'tenderness', 'tenderness', 'sadness', 'sadness', 'sadness', 'tenderness', 'tenderness', 'tenderness', 'tension', 'tenderness', 'tenderness', 'sadness', 'sadness', 'sadness', 'tenderness', 'sadness', 'tension', 'tension', 'tenderness', 'sadness', 'tenderness', 'tension', 'sadness', 'sadness', 'tension', 'tension', 'sadness', 'tension', 'sadness', 'sadness', 'sadness', 'sadness', 'sadness', 'tension', 'tension', 'tension', 'sadness', 'tension', 'tenderness', 'tenderness', 'tension', 'sadness', 'sadness', 'tension', 'sadness', 'sadness', 'sadness', 'sadness', 'tenderness', 'sadness', 'tension', 'tenderness', 'tenderness', 'sadness', 'sadness', 'sadness', 'sadness', 'sadness', 'tenderness', 'sadness', 'sadness', 'tenderness', 'tension', 'tenderness', 'sadness']\n",
            "['calmness', 'solemnity', 'amazement', 'calmness', 'power', 'tension', 'nostalgia', 'solemnity', 'calmness', 'nostalgia', 'tension', 'amazement', 'sadness', 'amazement', 'solemnity', 'power', 'calmness', 'amazement', 'solemnity', 'calmness', 'nostalgia', 'calmness', 'calmness', 'sadness', 'calmness', 'amazement', 'sadness', 'sadness', 'calmness', 'amazement', 'sadness', 'solemnity', 'calmness', 'power', 'amazement', 'sadness', 'amazement', 'calmness', 'nostalgia', 'solemnity', 'calmness', 'solemnity', 'solemnity', 'solemnity', 'solemnity', 'sadness', 'sadness', 'calmness', 'solemnity', 'solemnity', 'power', 'power', 'solemnity', 'solemnity', 'solemnity', 'solemnity', 'amazement', 'amazement', 'amazement', 'calmness', 'calmness', 'calmness', 'solemnity', 'sadness', 'solemnity', 'sadness', 'amazement', 'nostalgia', 'tension', 'calmness', 'solemnity', 'nostalgia', 'amazement', 'solemnity', 'power', 'calmness', 'solemnity', 'amazement', 'power', 'amazement', 'tension', 'calmness', 'amazement', 'solemnity', 'amazement', 'solemnity', 'amazement', 'sadness', 'amazement', 'power', 'solemnity', 'solemnity', 'solemnity', 'amazement', 'amazement', 'tension', 'power', 'calmness', 'nostalgia', 'solemnity', 'tension', 'calmness', 'solemnity', 'tension', 'solemnity', 'calmness', 'solemnity', 'solemnity', 'solemnity', 'amazement', 'sadness', 'amazement', 'power', 'solemnity', 'calmness', 'power', 'solemnity', 'solemnity', 'solemnity', 'calmness', 'nostalgia', 'power', 'calmness', 'amazement', 'calmness', 'solemnity', 'solemnity', 'amazement', 'sadness', 'sadness', 'amazement', 'solemnity', 'solemnity', 'solemnity', 'amazement', 'solemnity', 'solemnity', 'amazement', 'sadness', 'sadness', 'solemnity', 'solemnity', 'calmness', 'calmness', 'nostalgia', 'solemnity', 'sadness', 'solemnity', 'power', 'amazement', 'calmness', 'sadness', 'solemnity', 'solemnity', 'amazement', 'amazement', 'amazement', 'power', 'calmness', 'amazement', 'sadness', 'solemnity', 'power', 'amazement', 'nostalgia', 'calmness', 'calmness', 'calmness', 'calmness', 'solemnity', 'amazement', 'calmness', 'solemnity', 'nostalgia', 'solemnity', 'calmness', 'sadness', 'solemnity', 'solemnity', 'solemnity', 'sadness', 'solemnity', 'amazement', 'calmness', 'amazement', 'amazement', 'tension', 'solemnity', 'sadness', 'calmness', 'amazement', 'calmness', 'amazement', 'solemnity', 'calmness', 'amazement', 'sadness', 'solemnity', 'solemnity', 'calmness', 'calmness', 'solemnity', 'amazement', 'calmness', 'calmness', 'amazement', 'solemnity', 'sadness', 'solemnity', 'sadness', 'calmness', 'nostalgia', 'sadness', 'calmness', 'tension', 'amazement', 'amazement', 'solemnity', 'sadness', 'calmness', 'amazement', 'calmness', 'solemnity', 'amazement', 'sadness', 'solemnity', 'calmness', 'sadness', 'amazement', 'solemnity', 'sadness', 'calmness', 'amazement', 'solemnity', 'calmness', 'calmness', 'solemnity', 'amazement', 'calmness', 'power', 'solemnity', 'amazement', 'calmness', 'solemnity', 'amazement', 'amazement', 'solemnity', 'amazement', 'calmness', 'amazement', 'amazement', 'solemnity', 'solemnity', 'solemnity', 'amazement', 'power', 'calmness', 'solemnity', 'amazement', 'amazement', 'calmness', 'amazement', 'nostalgia', 'solemnity', 'amazement', 'sadness', 'calmness', 'nostalgia', 'solemnity', 'solemnity', 'amazement', 'solemnity', 'solemnity', 'power', 'nostalgia', 'amazement', 'solemnity', 'calmness', 'solemnity', 'solemnity', 'amazement', 'calmness', 'calmness', 'calmness', 'amazement', 'calmness', 'tension', 'amazement', 'amazement', 'sadness', 'nostalgia', 'amazement', 'amazement', 'solemnity', 'solemnity', 'calmness', 'sadness', 'sadness', 'solemnity', 'solemnity', 'amazement', 'amazement', 'amazement', 'sadness', 'solemnity', 'solemnity', 'sadness', 'solemnity', 'calmness', 'amazement', 'solemnity', 'tension', 'calmness', 'calmness', 'amazement', 'solemnity', 'nostalgia', 'sadness', 'solemnity', 'calmness', 'calmness', 'calmness', 'sadness', 'calmness', 'solemnity', 'solemnity', 'amazement', 'amazement', 'amazement', 'nostalgia', 'solemnity', 'amazement', 'amazement', 'sadness', 'sadness', 'nostalgia', 'power', 'solemnity', 'power', 'amazement', 'solemnity', 'solemnity', 'amazement', 'calmness', 'nostalgia', 'solemnity', 'solemnity', 'calmness', 'solemnity', 'calmness', 'calmness', 'amazement', 'calmness', 'amazement', 'solemnity', 'solemnity', 'calmness', 'sadness', 'calmness', 'solemnity', 'calmness', 'calmness', 'amazement', 'solemnity', 'nostalgia', 'nostalgia', 'calmness', 'amazement', 'sadness', 'amazement', 'nostalgia', 'solemnity', 'solemnity', 'solemnity', 'calmness', 'tension', 'solemnity', 'solemnity', 'solemnity', 'nostalgia', 'power', 'amazement', 'calmness', 'solemnity', 'sadness', 'amazement', 'solemnity', 'solemnity', 'amazement', 'calmness', 'amazement', 'calmness', 'sadness', 'power', 'calmness', 'amazement', 'amazement', 'amazement', 'sadness', 'sadness', 'power', 'calmness', 'amazement', 'calmness', 'nostalgia', 'sadness', 'solemnity', 'solemnity', 'sadness', 'calmness', 'amazement', 'amazement', 'amazement', 'solemnity', 'amazement', 'calmness', 'calmness', 'solemnity', 'calmness', 'calmness', 'solemnity', 'amazement', 'amazement', 'amazement', 'power', 'calmness', 'calmness', 'calmness', 'calmness', 'power', 'calmness', 'solemnity', 'solemnity', 'solemnity', 'amazement', 'sadness', 'solemnity', 'calmness', 'sadness', 'calmness', 'power', 'power', 'calmness', 'solemnity', 'calmness', 'calmness', 'calmness', 'tension', 'solemnity', 'amazement', 'sadness', 'solemnity', 'solemnity', 'solemnity', 'tension', 'solemnity', 'amazement', 'sadness', 'solemnity', 'calmness', 'sadness', 'calmness', 'calmness', 'sadness', 'solemnity', 'amazement', 'power', 'amazement', 'sadness', 'amazement', 'solemnity', 'power', 'nostalgia', 'solemnity', 'amazement', 'calmness', 'amazement', 'sadness', 'sadness', 'calmness', 'solemnity', 'calmness', 'calmness', 'power', 'sadness', 'solemnity', 'tension', 'sadness', 'amazement', 'solemnity', 'nostalgia', 'amazement', 'solemnity', 'amazement', 'amazement', 'tension', 'nostalgia', 'calmness', 'solemnity', 'amazement', 'calmness', 'sadness', 'calmness', 'sadness', 'calmness', 'power', 'calmness', 'solemnity', 'amazement', 'amazement', 'amazement', 'calmness', 'amazement', 'calmness', 'amazement', 'calmness', 'amazement', 'amazement', 'nostalgia', 'sadness', 'calmness', 'calmness', 'sadness', 'tension', 'sadness', 'amazement', 'calmness', 'sadness', 'calmness', 'nostalgia', 'nostalgia', 'calmness', 'solemnity', 'sadness', 'calmness', 'calmness', 'amazement', 'solemnity', 'calmness', 'solemnity', 'sadness', 'amazement', 'sadness', 'calmness', 'calmness', 'amazement', 'amazement', 'calmness', 'solemnity', 'amazement', 'solemnity', 'power', 'amazement', 'solemnity', 'sadness', 'amazement', 'calmness', 'amazement', 'sadness', 'amazement', 'amazement', 'solemnity', 'solemnity', 'tension', 'tension', 'nostalgia', 'calmness', 'amazement', 'power', 'calmness', 'calmness', 'solemnity', 'power', 'nostalgia', 'calmness', 'solemnity', 'calmness', 'power', 'solemnity', 'sadness', 'calmness', 'sadness', 'calmness', 'amazement', 'nostalgia', 'solemnity', 'tension', 'calmness', 'nostalgia', 'tension', 'amazement', 'calmness', 'tension', 'calmness', 'calmness', 'amazement', 'calmness', 'solemnity', 'tension', 'nostalgia', 'calmness', 'calmness', 'amazement', 'solemnity', 'amazement', 'power', 'solemnity', 'nostalgia', 'calmness', 'amazement', 'solemnity', 'tension', 'tension', 'calmness', 'amazement', 'amazement', 'calmness', 'calmness', 'solemnity', 'nostalgia', 'sadness', 'calmness', 'sadness', 'nostalgia', 'nostalgia', 'tension', 'amazement', 'amazement', 'solemnity', 'nostalgia', 'power', 'solemnity', 'calmness', 'amazement', 'tension', 'amazement', 'amazement', 'solemnity', 'solemnity', 'solemnity', 'power', 'solemnity', 'solemnity', 'calmness', 'solemnity', 'solemnity', 'amazement', 'solemnity', 'calmness', 'calmness', 'amazement', 'calmness', 'sadness', 'solemnity', 'amazement', 'solemnity', 'calmness', 'calmness', 'amazement', 'calmness', 'solemnity', 'amazement', 'tension', 'solemnity', 'sadness', 'amazement', 'solemnity', 'solemnity', 'nostalgia', 'power', 'amazement', 'calmness', 'nostalgia', 'calmness', 'amazement', 'power', 'solemnity', 'calmness', 'power', 'solemnity', 'amazement', 'solemnity', 'tension', 'amazement', 'calmness', 'solemnity', 'solemnity', 'sadness', 'sadness', 'calmness', 'amazement', 'calmness', 'solemnity', 'solemnity', 'calmness', 'calmness', 'solemnity', 'amazement', 'sadness', 'power', 'sadness', 'solemnity', 'solemnity', 'calmness', 'solemnity', 'power', 'solemnity', 'calmness', 'amazement', 'power', 'sadness', 'calmness', 'calmness', 'solemnity', 'amazement', 'solemnity', 'calmness', 'calmness', 'amazement', 'solemnity', 'power', 'nostalgia', 'calmness', 'amazement', 'solemnity', 'solemnity', 'sadness', 'calmness', 'power', 'sadness', 'calmness', 'calmness', 'calmness', 'solemnity', 'amazement', 'calmness', 'solemnity', 'solemnity', 'solemnity', 'calmness', 'solemnity', 'solemnity', 'solemnity', 'amazement', 'solemnity', 'solemnity', 'solemnity', 'calmness', 'solemnity', 'sadness', 'calmness', 'amazement', 'amazement', 'sadness', 'calmness', 'amazement', 'calmness', 'calmness', 'nostalgia', 'calmness', 'calmness', 'solemnity', 'solemnity', 'calmness', 'calmness', 'amazement', 'amazement', 'solemnity', 'solemnity', 'solemnity', 'tension', 'nostalgia', 'solemnity', 'amazement', 'calmness', 'solemnity', 'amazement', 'amazement', 'solemnity', 'solemnity', 'calmness', 'calmness', 'solemnity', 'sadness', 'solemnity', 'sadness', 'calmness', 'solemnity', 'sadness', 'power', 'solemnity', 'nostalgia', 'sadness', 'sadness', 'power', 'calmness', 'calmness', 'calmness', 'solemnity', 'amazement', 'calmness', 'calmness', 'amazement', 'amazement', 'sadness', 'solemnity', 'calmness', 'amazement', 'amazement', 'sadness', 'calmness', 'power', 'sadness', 'amazement', 'solemnity', 'nostalgia', 'calmness', 'calmness', 'tension', 'power', 'solemnity', 'calmness', 'amazement', 'power', 'tension', 'solemnity', 'sadness', 'sadness', 'sadness', 'calmness', 'amazement', 'power', 'amazement', 'solemnity', 'solemnity', 'amazement', 'solemnity', 'calmness', 'calmness', 'amazement', 'amazement', 'calmness', 'amazement', 'calmness', 'solemnity', 'nostalgia', 'sadness', 'solemnity', 'sadness', 'calmness', 'sadness', 'solemnity', 'calmness', 'sadness', 'solemnity', 'solemnity', 'sadness', 'nostalgia', 'tension', 'amazement', 'calmness', 'power', 'amazement', 'solemnity', 'calmness', 'solemnity', 'calmness', 'calmness', 'sadness', 'calmness', 'solemnity', 'amazement', 'calmness', 'nostalgia', 'sadness', 'amazement', 'solemnity', 'sadness', 'solemnity', 'calmness', 'calmness', 'power', 'amazement', 'amazement', 'tension', 'calmness', 'amazement', 'amazement', 'power', 'calmness', 'solemnity', 'solemnity', 'amazement', 'solemnity', 'amazement', 'power', 'nostalgia', 'sadness', 'sadness', 'solemnity', 'solemnity', 'calmness', 'sadness', 'power', 'solemnity', 'calmness', 'solemnity', 'calmness', 'solemnity', 'calmness', 'calmness', 'amazement', 'solemnity', 'calmness', 'calmness', 'calmness', 'amazement', 'amazement', 'calmness', 'amazement', 'amazement', 'solemnity', 'sadness', 'power', 'nostalgia', 'calmness', 'tension', 'solemnity', 'calmness', 'nostalgia', 'calmness', 'solemnity', 'amazement', 'amazement', 'calmness', 'amazement', 'amazement', 'solemnity', 'calmness', 'amazement', 'calmness', 'amazement', 'calmness', 'calmness', 'amazement', 'amazement', 'amazement', 'nostalgia', 'sadness', 'calmness', 'calmness', 'sadness', 'tension', 'solemnity', 'calmness', 'calmness', 'calmness', 'calmness', 'sadness', 'amazement', 'solemnity', 'calmness', 'calmness', 'calmness', 'calmness', 'solemnity', 'calmness', 'solemnity', 'sadness', 'sadness', 'power', 'power', 'solemnity', 'power', 'sadness', 'solemnity', 'solemnity', 'calmness', 'solemnity', 'sadness', 'calmness', 'solemnity', 'solemnity', 'solemnity', 'tension', 'calmness', 'solemnity', 'calmness', 'calmness', 'solemnity', 'sadness', 'calmness', 'calmness', 'power', 'calmness', 'amazement', 'sadness', 'calmness', 'solemnity', 'power', 'solemnity', 'solemnity', 'solemnity', 'nostalgia', 'calmness', 'sadness', 'amazement', 'tension', 'solemnity', 'amazement', 'power', 'calmness', 'solemnity', 'sadness', 'solemnity', 'power', 'calmness', 'solemnity', 'calmness', 'calmness', 'amazement', 'calmness', 'calmness', 'solemnity', 'solemnity', 'amazement', 'solemnity', 'amazement', 'solemnity', 'tension', 'amazement', 'calmness', 'solemnity', 'tension', 'calmness', 'calmness', 'sadness', 'amazement', 'calmness', 'tension', 'sadness', 'solemnity', 'solemnity', 'calmness', 'calmness', 'calmness', 'tension', 'calmness', 'solemnity', 'solemnity', 'calmness', 'solemnity', 'calmness', 'solemnity', 'sadness', 'sadness', 'solemnity', 'sadness', 'amazement', 'calmness', 'calmness', 'tension', 'amazement', 'power', 'sadness', 'calmness', 'power', 'amazement', 'calmness', 'calmness', 'solemnity', 'solemnity', 'amazement', 'nostalgia', 'sadness', 'amazement', 'amazement', 'solemnity', 'calmness', 'solemnity', 'calmness', 'solemnity', 'amazement', 'calmness', 'amazement', 'nostalgia', 'calmness', 'calmness', 'amazement', 'power', 'tension', 'solemnity', 'solemnity', 'sadness', 'tension', 'nostalgia', 'solemnity', 'solemnity', 'tension', 'amazement', 'amazement', 'calmness', 'sadness', 'solemnity', 'amazement', 'power', 'calmness', 'solemnity', 'solemnity', 'amazement', 'calmness', 'calmness', 'sadness', 'calmness', 'amazement', 'solemnity', 'solemnity', 'amazement', 'sadness', 'power', 'solemnity', 'amazement', 'solemnity', 'calmness', 'sadness', 'calmness', 'amazement', 'solemnity', 'amazement', 'sadness', 'nostalgia', 'nostalgia', 'solemnity', 'amazement', 'calmness', 'power', 'solemnity', 'sadness', 'amazement', 'calmness', 'amazement', 'calmness', 'solemnity', 'amazement', 'solemnity', 'sadness', 'amazement', 'amazement', 'solemnity', 'calmness', 'tension', 'power', 'solemnity', 'calmness', 'solemnity', 'tension', 'calmness', 'amazement', 'calmness', 'amazement']\n"
          ]
        }
      ]
    },
    {
      "cell_type": "markdown",
      "source": [
        "### Evaluation Metric\n",
        "Calculating accuracy and confusion matrix"
      ],
      "metadata": {
        "id": "l-fq-0yJfAJR"
      }
    },
    {
      "cell_type": "code",
      "source": [
        "from sklearn.metrics import accuracy_score\n",
        "from sklearn.metrics import confusion_matrix\n",
        "from sklearn.metrics import f1_score"
      ],
      "metadata": {
        "id": "Zd-bt4ZwRdPp"
      },
      "execution_count": null,
      "outputs": []
    },
    {
      "cell_type": "code",
      "source": [
        "# pre stop word removal\n",
        "accuracy = accuracy_score(actual_emotion_list, predicted_emotion_list)\n",
        "accuracy"
      ],
      "metadata": {
        "colab": {
          "base_uri": "https://localhost:8080/"
        },
        "id": "P8InCdpOU7OH",
        "outputId": "1c7d008b-b242-41a1-d26c-2b3ad4947cc1"
      },
      "execution_count": null,
      "outputs": [
        {
          "output_type": "execute_result",
          "data": {
            "text/plain": [
              "0.06637931034482758"
            ]
          },
          "metadata": {},
          "execution_count": 23
        }
      ]
    },
    {
      "cell_type": "code",
      "source": [
        "# after stop word removal\n",
        "accuracy = accuracy_score(actual_emotion_list, predicted_emotion_list)\n",
        "accuracy"
      ],
      "metadata": {
        "colab": {
          "base_uri": "https://localhost:8080/"
        },
        "id": "kzRo7C-e7UmU",
        "outputId": "3458a2ed-b999-4ce1-d9e2-8e3424e4632e"
      },
      "execution_count": null,
      "outputs": [
        {
          "output_type": "execute_result",
          "data": {
            "text/plain": [
              "0.06637931034482758"
            ]
          },
          "metadata": {},
          "execution_count": 24
        }
      ]
    },
    {
      "cell_type": "code",
      "source": [
        "confusion = confusion_matrix(actual_emotion_list, predicted_emotion_list)\n",
        "confusion"
      ],
      "metadata": {
        "colab": {
          "base_uri": "https://localhost:8080/"
        },
        "id": "5AquTLFXU8Pq",
        "outputId": "90cb8e42-9ea6-4eb9-9114-26c0c71b540f"
      },
      "execution_count": null,
      "outputs": [
        {
          "output_type": "execute_result",
          "data": {
            "text/plain": [
              "array([[  0,   0,   0,   0,   0,   0,   0,   0],\n",
              "       [  0,   0,   0,   0,   0,   0,   0,   0],\n",
              "       [  0,   0,   0,   0,   0,   0,   0,   0],\n",
              "       [  0,   0,   0,   0,   0,   0,   0,   0],\n",
              "       [106, 134,  28,  41,  59, 173,   0,  28],\n",
              "       [  0,   0,   0,   0,   0,   0,   0,   0],\n",
              "       [108, 118,  22,  12,  14,  50,   0,   2],\n",
              "       [ 30,  45,  11,  19,  61,  81,   0,  18]])"
            ]
          },
          "metadata": {},
          "execution_count": 25
        }
      ]
    },
    {
      "cell_type": "code",
      "source": [
        "f1 = f1_score(actual_emotion_list, predicted_emotion_list, average=\"weighted\")\n",
        "f1"
      ],
      "metadata": {
        "colab": {
          "base_uri": "https://localhost:8080/"
        },
        "id": "Bp6JujsU4F8J",
        "outputId": "484b66c1-5c97-43fc-f7e9-e075c9111a5e"
      },
      "execution_count": null,
      "outputs": [
        {
          "output_type": "execute_result",
          "data": {
            "text/plain": [
              "0.10860953175855503"
            ]
          },
          "metadata": {},
          "execution_count": 31
        }
      ]
    },
    {
      "cell_type": "code",
      "source": [
        "from sklearn.metrics import classification_report\n",
        "# Print the classification report\n",
        "eval_report = classification_report(actual_emotion_list, predicted_emotion_list)\n",
        "print(\"\\nEvaluation Report:\")\n",
        "print(eval_report)"
      ],
      "metadata": {
        "id": "3L0F9Tfx6_yj",
        "outputId": "c3d14762-be72-4405-91f3-5074fedc8036",
        "colab": {
          "base_uri": "https://localhost:8080/"
        }
      },
      "execution_count": null,
      "outputs": [
        {
          "output_type": "stream",
          "name": "stdout",
          "text": [
            "\n",
            "Evaluation Report:\n",
            "              precision    recall  f1-score   support\n",
            "\n",
            "   amazement       0.00      0.00      0.00         0\n",
            "    calmness       0.00      0.00      0.00         0\n",
            "   nostalgia       0.00      0.00      0.00         0\n",
            "       power       0.00      0.00      0.00         0\n",
            "     sadness       0.44      0.10      0.17       569\n",
            "   solemnity       0.00      0.00      0.00         0\n",
            "  tenderness       0.00      0.00      0.00       326\n",
            "     tension       0.38      0.07      0.12       265\n",
            "\n",
            "    accuracy                           0.07      1160\n",
            "   macro avg       0.10      0.02      0.04      1160\n",
            "weighted avg       0.30      0.07      0.11      1160\n",
            "\n"
          ]
        },
        {
          "output_type": "stream",
          "name": "stderr",
          "text": [
            "/usr/local/lib/python3.10/dist-packages/sklearn/metrics/_classification.py:1344: UndefinedMetricWarning: Precision and F-score are ill-defined and being set to 0.0 in labels with no predicted samples. Use `zero_division` parameter to control this behavior.\n",
            "  _warn_prf(average, modifier, msg_start, len(result))\n",
            "/usr/local/lib/python3.10/dist-packages/sklearn/metrics/_classification.py:1344: UndefinedMetricWarning: Recall and F-score are ill-defined and being set to 0.0 in labels with no true samples. Use `zero_division` parameter to control this behavior.\n",
            "  _warn_prf(average, modifier, msg_start, len(result))\n",
            "/usr/local/lib/python3.10/dist-packages/sklearn/metrics/_classification.py:1344: UndefinedMetricWarning: Precision and F-score are ill-defined and being set to 0.0 in labels with no predicted samples. Use `zero_division` parameter to control this behavior.\n",
            "  _warn_prf(average, modifier, msg_start, len(result))\n",
            "/usr/local/lib/python3.10/dist-packages/sklearn/metrics/_classification.py:1344: UndefinedMetricWarning: Recall and F-score are ill-defined and being set to 0.0 in labels with no true samples. Use `zero_division` parameter to control this behavior.\n",
            "  _warn_prf(average, modifier, msg_start, len(result))\n",
            "/usr/local/lib/python3.10/dist-packages/sklearn/metrics/_classification.py:1344: UndefinedMetricWarning: Precision and F-score are ill-defined and being set to 0.0 in labels with no predicted samples. Use `zero_division` parameter to control this behavior.\n",
            "  _warn_prf(average, modifier, msg_start, len(result))\n",
            "/usr/local/lib/python3.10/dist-packages/sklearn/metrics/_classification.py:1344: UndefinedMetricWarning: Recall and F-score are ill-defined and being set to 0.0 in labels with no true samples. Use `zero_division` parameter to control this behavior.\n",
            "  _warn_prf(average, modifier, msg_start, len(result))\n"
          ]
        }
      ]
    },
    {
      "cell_type": "markdown",
      "source": [
        "As seen from the results, the accuracy of NRCLex is 6.7%, which is very low.\n",
        "This may be due to:\n",
        "* Only accessing the scores of approximately 27k words individually. It also does not take into account of the overall context of the sentence, and thus might label each word differently.\n",
        "\n",
        "* Some of the words in the package are not tagged to a specific label\n",
        "\n",
        "* The categories which are provided from NRCLex differ from the categories which are derived from the emotion paper - which might cause the emotion analysis to be incorrect\n",
        "\n",
        "* Does not handle negations directly unless it detects negation words like \"not\" - Hence, cannot identify sarcasm or any cultural variations of the input sentence.\n",
        "\n",
        "* Currently only identifying single-label emotion analysis. Multi-label emotion recognition might derive a more accurate output.\n"
      ],
      "metadata": {
        "id": "C5m_b7xrfH8w"
      }
    },
    {
      "cell_type": "code",
      "execution_count": null,
      "metadata": {
        "id": "1cOiB5Kh6Ou7"
      },
      "outputs": [],
      "source": []
    }
  ],
  "metadata": {
    "kernelspec": {
      "display_name": "Python 3",
      "language": "python",
      "name": "python3"
    },
    "language_info": {
      "codemirror_mode": {
        "name": "ipython",
        "version": 3
      },
      "file_extension": ".py",
      "mimetype": "text/x-python",
      "name": "python",
      "nbconvert_exporter": "python",
      "pygments_lexer": "ipython3",
      "version": "3.8.8"
    },
    "colab": {
      "provenance": []
    }
  },
  "nbformat": 4,
  "nbformat_minor": 0
}