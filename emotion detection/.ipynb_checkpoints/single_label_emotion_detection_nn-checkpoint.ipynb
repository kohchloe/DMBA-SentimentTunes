{
 "cells": [
  {
   "cell_type": "code",
   "execution_count": 1,
   "metadata": {},
   "outputs": [],
   "source": [
    "# Import the Required Packages\n",
    "\n",
    "from tensorflow.keras.preprocessing.text import Tokenizer\n",
    "from tensorflow.keras.preprocessing.sequence import pad_sequences\n",
    "\n",
    "import numpy as np"
   ]
  },
  {
   "cell_type": "markdown",
   "metadata": {},
   "source": [
    "## Step 1 – Data Loading and Processing"
   ]
  },
  {
   "cell_type": "markdown",
   "metadata": {},
   "source": [
    "### 1.1 Data Loading"
   ]
  },
  {
   "cell_type": "code",
   "execution_count": 2,
   "metadata": {},
   "outputs": [],
   "source": [
    "# Load the song file\n",
    "import pandas as pd\n",
    "df = pd.read_csv('SingleLabel.csv')"
   ]
  },
  {
   "cell_type": "code",
   "execution_count": 3,
   "metadata": {},
   "outputs": [
    {
     "data": {
      "text/html": [
       "<div>\n",
       "<style scoped>\n",
       "    .dataframe tbody tr th:only-of-type {\n",
       "        vertical-align: middle;\n",
       "    }\n",
       "\n",
       "    .dataframe tbody tr th {\n",
       "        vertical-align: top;\n",
       "    }\n",
       "\n",
       "    .dataframe thead th {\n",
       "        text-align: right;\n",
       "    }\n",
       "</style>\n",
       "<table border=\"1\" class=\"dataframe\">\n",
       "  <thead>\n",
       "    <tr style=\"text-align: right;\">\n",
       "      <th></th>\n",
       "      <th>artist</th>\n",
       "      <th>genre</th>\n",
       "      <th>title</th>\n",
       "      <th>album</th>\n",
       "      <th>year</th>\n",
       "      <th>lyrics</th>\n",
       "      <th>label</th>\n",
       "    </tr>\n",
       "  </thead>\n",
       "  <tbody>\n",
       "    <tr>\n",
       "      <th>0</th>\n",
       "      <td>Nirvana</td>\n",
       "      <td>Rock</td>\n",
       "      <td>You Know You’re Right</td>\n",
       "      <td>Nirvana</td>\n",
       "      <td>2002.0</td>\n",
       "      <td>I will never bother you\\nI will never promise ...</td>\n",
       "      <td>Sadness</td>\n",
       "    </tr>\n",
       "    <tr>\n",
       "      <th>1</th>\n",
       "      <td>Damian Marley</td>\n",
       "      <td>Reggae</td>\n",
       "      <td>Here We Go</td>\n",
       "      <td>Stony Hill</td>\n",
       "      <td>2017.0</td>\n",
       "      <td>Here we go\\nMy big ego is gonna get me in trou...</td>\n",
       "      <td>Tension</td>\n",
       "    </tr>\n",
       "    <tr>\n",
       "      <th>2</th>\n",
       "      <td>The Mission UK</td>\n",
       "      <td>Rock</td>\n",
       "      <td>Jade</td>\n",
       "      <td>Another Fall from Grace</td>\n",
       "      <td>2016.0</td>\n",
       "      <td>She came as Lolita dressed as Venus\\nAnd adorn...</td>\n",
       "      <td>Tenderness</td>\n",
       "    </tr>\n",
       "    <tr>\n",
       "      <th>3</th>\n",
       "      <td>UB40</td>\n",
       "      <td>Reggae</td>\n",
       "      <td>Food For Thought</td>\n",
       "      <td>Signing Off</td>\n",
       "      <td>1980.0</td>\n",
       "      <td>Ivory Madonna, dying in the dust\\nWaiting for ...</td>\n",
       "      <td>Sadness</td>\n",
       "    </tr>\n",
       "    <tr>\n",
       "      <th>4</th>\n",
       "      <td>Johnny Cash</td>\n",
       "      <td>Country</td>\n",
       "      <td>I’ve Been Everywhere</td>\n",
       "      <td>American II: Unchained</td>\n",
       "      <td>1996.0</td>\n",
       "      <td>I was totin' my pack along the dusty Winnemucc...</td>\n",
       "      <td>Sadness</td>\n",
       "    </tr>\n",
       "  </tbody>\n",
       "</table>\n",
       "</div>"
      ],
      "text/plain": [
       "           artist    genre                  title                    album  \\\n",
       "0         Nirvana     Rock  You Know You’re Right                  Nirvana   \n",
       "1   Damian Marley   Reggae             Here We Go               Stony Hill   \n",
       "2  The Mission UK     Rock                   Jade  Another Fall from Grace   \n",
       "3            UB40   Reggae       Food For Thought              Signing Off   \n",
       "4     Johnny Cash  Country   I’ve Been Everywhere   American II: Unchained   \n",
       "\n",
       "     year                                             lyrics       label  \n",
       "0  2002.0  I will never bother you\\nI will never promise ...     Sadness  \n",
       "1  2017.0  Here we go\\nMy big ego is gonna get me in trou...     Tension  \n",
       "2  2016.0  She came as Lolita dressed as Venus\\nAnd adorn...  Tenderness  \n",
       "3  1980.0  Ivory Madonna, dying in the dust\\nWaiting for ...     Sadness  \n",
       "4  1996.0  I was totin' my pack along the dusty Winnemucc...     Sadness  "
      ]
     },
     "execution_count": 3,
     "metadata": {},
     "output_type": "execute_result"
    }
   ],
   "source": [
    "df.head()"
   ]
  },
  {
   "cell_type": "code",
   "execution_count": 4,
   "metadata": {},
   "outputs": [],
   "source": [
    "# load the dataset\n",
    "# texts = df.loc[:, df.columns != 'label'] \n",
    "lyrics = df.loc[:,'lyrics'].values"
   ]
  },
  {
   "cell_type": "code",
   "execution_count": 5,
   "metadata": {},
   "outputs": [
    {
     "data": {
      "text/plain": [
       "array(['Sadness', 'Tension', 'Tenderness'], dtype=object)"
      ]
     },
     "execution_count": 5,
     "metadata": {},
     "output_type": "execute_result"
    }
   ],
   "source": [
    "df.loc[:,'label'].unique()"
   ]
  },
  {
   "cell_type": "code",
   "execution_count": 6,
   "metadata": {},
   "outputs": [],
   "source": [
    "emotion_dictionary = {'Sadness': 0, 'Tension': 1, 'Tenderness': 2}"
   ]
  },
  {
   "cell_type": "code",
   "execution_count": 7,
   "metadata": {},
   "outputs": [],
   "source": [
    "df['new_label'] = df['label'].replace(emotion_dictionary)"
   ]
  },
  {
   "cell_type": "code",
   "execution_count": 8,
   "metadata": {},
   "outputs": [],
   "source": [
    "labels = df.loc[:,'new_label'].values"
   ]
  },
  {
   "cell_type": "code",
   "execution_count": 9,
   "metadata": {},
   "outputs": [
    {
     "data": {
      "text/plain": [
       "array([0, 1, 2, ..., 1, 2, 0])"
      ]
     },
     "execution_count": 9,
     "metadata": {},
     "output_type": "execute_result"
    }
   ],
   "source": [
    "labels"
   ]
  },
  {
   "cell_type": "code",
   "execution_count": 10,
   "metadata": {
    "scrolled": true
   },
   "outputs": [
    {
     "data": {
      "text/plain": [
       "array([\"I will never bother you\\nI will never promise to\\nI will never follow you\\nI will never bother you\\nNever speak a word again\\nI will crawl away for good\\nI will move away from here\\nYou won't be afraid of fear\\nNo thought was put into this\\nAnd always knew it would come to this\\nThings have never been so swell\\nI have never failed to fail\\n\\nHe-eee-eee-eeey\\nHe-eee-eee-eey\\nHe-eee-eee-ey\\nYou know you're right\\nYou know you're right\\nYou know you're right\\n\\nI'm so warm and calm inside\\nI no longer have to hide\\nLet's talk about someone else\\nSteaming soup against her mouth\\nNothing really bothers her\\nShe just wants to love himself\\nI will move away from here\\nYou won't be afraid of fear\\nNo thought was put into this\\nAlways knew it'd come to this\\nThings have never been so swell\\nI have never failed to fail\\n\\nHe-eee-eee-eey\\nHe-eee-eee-eey\\nHe-eee-eee-eey\\nHe-eee-eee-eey\\nHe-eee-eee-eey\\nYou know you're right\\nYou know you're right\\nYou know you're right\\nYou know you're right\\nYou know you're right\\nYou know you're right\\nYou know you're right\\nYou know you're right\\nYou know you're right\\nYou know you're right\\nYou know you're right\\nYou know you're right\\nYou know you're right\\nYou know you're right\\n(He-eee-eee-eey)\\nYou know your rights\\n(He-eee-eee-eey)\\nYou know your rights\\n(He-eee-eee-eey)\\nYou know your rights\\n(He-eee-eee-eey)\",\n",
       "       \"Here we go\\nMy big ego is gonna get me in trouble\\nTrying to play hero\\nMy jeans can't tight like Michael Phelps speedo\\nWe no play follow fashion, when we lead out\\nNow looky here, my big ideas\\nGonna get me in trouble now amongst my peers\\nBut have no fear, no bother cry tears\\nYou're just miles ahead when I'm ahead light years\\n\\n(Here.. here I come again)\\nGong originally, run fi the grand finale\\n(Have no fear.. for it is only I)\\nI do it regularly, through every hill and valley\\n(I'm here to teach you only truth)\\nIt's Mister Warm and Easy\\nSomebody please believe me\\n(For the things you do, Jah is watching you)\\n\\nMan a wah do some likkle bomboclaated\\nWeh feel like them big 'cause dem album charted\\nWell all bad card will be disregarded\\nNo punk cyaan finish weh what Bob Marley started\\nGong to the Zilla, I'm the Don Die-Hearted\\nAnywhere me go, dem roll out red carpet\\nSome man a buy car and nah no house fi park it\\nNah unify dem selfish like market\\nDem sell out dem souls just to be rewarded\\nBleach out dem skin, dem favour dead to rahtid\\nSoul too corrupt and dem blemish and faulted\\nReal Rastaman we cannot be outsmarted\\nGong's not the one fi a bwoy take chance with\\nAncient Nazarite weh make the Red Sea parted\\nProvide the harvest, in drought and shortage\\nWith Jah by my side I've got all advantage\\n\\n(Here.. here I come again)\\nGong originally, run fi the grand finale\\n(Have no fear.. for it is only I)\\nI do it regularly, through every hill and valley\\n(I'm here to teach you only truth)\\nIt's Mister Warm and Easy\\nSomebody please believe me\\n(For the things you do, Jah is watching you)\\n\\nSo buy your tickets to the show, get there early grab a seat\\nThe real Gong is in the house, everything else counterfeit\\nIf I have not been around, it's a part of my mystique\\nI've been busy so to speak, I've been winning on a streak\\nI've been feeling like a Wednesday, surrounded by the week\\nBe strong alone continue, fi di justice where we seek\\nSo doh follow some DJ cah dem swimming up a creek\\nDem inna deeper shit when time dem an dem maker meet\\nAnd if you buy the bullshit, then don't lose your receipt\\nThem bound fi self destruct, mi ago lowe dem, mek you see it\\nDem sow weh dem a reap, dem think say Jah no seet\\nWhen the stage show full a demon and the club dem full a freak\\nAnd the dancehall full a pagans and dance like dem a Greek\\nDem renk and dem a reek, dem pop down one a week\\nDem always overdweet, but turn the other cheek\\nThe earth is for the meek, huh\\n\\n(Here.. here I come again)\\nGong originally, run fi the grand finale\\n(Have no fear.. for it is only I)\\nI do it regularly, through every hill and valley\\n(I'm here to teach you only truth)\\nIt's Mister Warm and Easy\\nSomebody please believe me\\n(For the things you do, Jah is watching you)\\n\\nMe do a thousand video shooting, ten thousand chariot\\nHundred thousand photo shoot and million radio drop\\nMi deejay til' me hoarse a welcome people to the rock\\nYou think a silver spoon or like it drop inna mi lap\\nMe sign a billion autograph, up to now the tour no stop\\nTrade privacy for privilege, it balance when it swap\\nTony Rebel say a reggae put Jamaica 'pon the map\\nWho am I to disagree when I've been reaping up the crop\\nMy first release was '93, when dem a feed pon Similac\\nFirst Grammy at 23, tell me which one a dem do that\\nAnother tour at 27, add it up and do the maths\\nThe weight weh dem a carry that no heavy like me locks\\nI'm a veteran, the youngest to be exact\\nGhetto people love me bad, I'm guessing opposites attract\\nUptown me born and grow, Stony Hill to mark the spot\\nBig Gong to the Zilla and the return of the mac\",\n",
       "       \"She came as Lolita dressed as Venus\\nAnd adorned with Stars\\nWith her deft allusion and a Universe between Us\\nShe showed me her skill with words and I showed her my Scars\\nDon't mistake kindness for affection, she said\\nDon't ever let the attention go to your Head\\nNo more let Death divide what Life can join Together\\nBut just remember there is nothing that can last Forever\\nAnd Jade is Benediction\\nShe is silent Prayer\\nAnd Jade is Exaltation\\nThe colours that I wear\\nAnd Jade is Contradiction\\nShe is naked but never bare\\nJade is a Work, a work of Fiction\\nNothing more than Castles in the Air\\nThe shorter the leash the harder I will pull\\nMy glass is Empty when once it was Full\\nI wish I could be Jesus and turn water into Wine\\n'Cause all my grapes have withered, withered on the vine\\nWith a smile like Mercury, elusive and fey\\nThere's a Beauty in the night that can't be seen by day\\nShe's a barbed wire Angel insatiable and cruel\\nShe destroys my resistance like the most Dazzling Jewel\\nAnd Jade is Apostasy\\nAbandoned Faith and Hope\\nJade is Hypocrisy\\nShe is Kaleidoscope\\nAnd Jade is Precious Stone\\nImpervious and Rare\\nAnd Jade will never atone\\nFor the Flowers in her Hair\\nAnd Jade never sleeps alone\\nThere's always someone there\\nWith Jade\\nTo rest their Head on her thigh\\nTo make her moist when she is dry\\nTo hold the Breath of every sigh\\nTo pledge their Life and how to Die\\nTo kiss the sleep from her Eyes\\nTo dry the Tears when she Cries\\nAnd Jade is all and Jade is None\\nAnd Jade is Moon and she is Sun\\nAnd Jade is You and Everyone\\nAnd she is Me and and all I've done\\nAnd Jade is Lost and she is Won\\nAnd Jade is the Bullet shot from your Gun ...\",\n",
       "       ...,\n",
       "       \"Standing on the beach\\nWith a gun in my hand\\nStaring at the sea\\nStaring at the sand\\nStaring down the barrel\\nAt the arab on the ground\\nI can see his open mouth\\nBut I hear no sound\\n\\nI'm alive\\nI'm dead\\nI'm the stranger\\nKilling an arab\\n\\nI can turn\\nAnd walk away\\nOr I can fire the gun\\nStaring at the sky\\nStaring at the sun\\nWhichever I chose\\nIt amounts to the same\\nAbsolutely nothing\\n\\n\\nI feel the steel butt jump\\nSmooth in my hand\\nStaring at the sea\\nStaring at the sand\\nStaring at myself\\nReflected in the eyes\\nOf the dead man on the beach\\n(The dead man on the beach)\",\n",
       "       \"A little baby told God\\nHey I'm kinda scared, don't really know if\\nI wanna go down there\\nBecause from here it looks like a little blue ball\\nBut that's a great big place and I'm so small\\nWhy can't I just stay here with you?\\nDid I make you mad, don't you want me, too?'\\nAnd God said, 'Oh child, of course I do\\nBut there's somebody special that's waiting for you'\\nSo hush now baby don’t you cry\\nCuz there’s someone down there waiting who’s only goal in life\\nIs making you sure you’re always going to be alright\\nA loving angel tender tough and strong\\nIt’s almost time to go and meet your Mom\\nNow when she’s talking to you\\nMake sure you listen close\\nCause she’s gonna teach everything you’ll ever need to know\\nLike how to mind your manners to love and laugh and dream\\nAnd she’ll put you on the path that’ll bring you back to me\\nSo hush now baby don’t you cry\\nCuz there’s someone down there waiting who’s only goal in life\\nIs making you sure you’re always going to be alright\\nA loving angel tender tough and strong\\nCome on child it’s time to meet your Mom\",\n",
       "       \"The older I get\\nThe more I think\\nYou only get a minute, better live while you’re in it\\n'Cause it’s gone in a blink\\nAnd the older I get\\nThe truer it is\\nIt’s the people you love, not the money and stuff\\nThat makes you rich\\n\\nAnd if they found a fountain of youth\\nI wouldn’t drink a drop and that’s the truth\\nFunny how it feels I’m just getting to my best years yet\\n\\nThe older I get\\nThe fewer friends I have\\nBut you don’t need a lot when the ones that you got\\nHave always got your back\\nAnd the older I get\\nThe better I am\\nAt knowing when to give\\nAnd when to just not give a damn\\n\\nAnd if they found a fountain of youth\\nI wouldn’t drink a drop and that’s the truth\\nFunny how it feels I’m just getting to my best years yet\\nThe older I get\\n\\n\\nAnd I don’t mind all the lines\\nFrom all the times I’ve laughed and cried\\nSouvenirs and little signs of the life I’ve lived\\n\\nThe older I get\\nThe longer I pray\\nI don’t know why, I guess that I\\nGot more to say\\nAnd the older I get\\nThe more thankful I feel\\nFor the life I’ve had, and all the life I’m living still\"],\n",
       "      dtype=object)"
      ]
     },
     "execution_count": 10,
     "metadata": {},
     "output_type": "execute_result"
    }
   ],
   "source": [
    "lyrics"
   ]
  },
  {
   "cell_type": "code",
   "execution_count": 11,
   "metadata": {},
   "outputs": [
    {
     "data": {
      "text/plain": [
       "array([0, 1, 2])"
      ]
     },
     "execution_count": 11,
     "metadata": {},
     "output_type": "execute_result"
    }
   ],
   "source": [
    "np.unique(labels)"
   ]
  },
  {
   "cell_type": "code",
   "execution_count": 12,
   "metadata": {},
   "outputs": [
    {
     "name": "stdout",
     "output_type": "stream",
     "text": [
      "Average len of songs is  347.5155172413793\n",
      "the maximum length of the lyrics inputs is  2061\n"
     ]
    }
   ],
   "source": [
    "# Check the maximum length of texts\n",
    "max_len = -1\n",
    "num_songs = 0 \n",
    "total_len = 0\n",
    "for example in lyrics:\n",
    "    num_songs += 1\n",
    "    total_len += len(example.split())\n",
    "    if len(example.split()) > max_len:\n",
    "        max_len = len(example.split())\n",
    "        \n",
    "print('Average len of songs is ', total_len/num_songs)\n",
    "print('the maximum length of the lyrics inputs is ', max_len)"
   ]
  },
  {
   "cell_type": "markdown",
   "metadata": {},
   "source": [
    "### 1.2 Data Processing\n"
   ]
  },
  {
   "cell_type": "code",
   "execution_count": 13,
   "metadata": {},
   "outputs": [
    {
     "name": "stdout",
     "output_type": "stream",
     "text": [
      "Found 17125 unique tokens.\n",
      "Shape of data tensor: (1160, 500)\n",
      "Shape of label tensor: (1160,)\n"
     ]
    }
   ],
   "source": [
    "# Convert the texts and labels into numeric tensors\n",
    "\n",
    "maxlen = 500\n",
    "max_words = 50000  # We will only consider the top 10,000 words (vocabulary) in the dataset (dictionary)\n",
    "\n",
    "tokenizer = Tokenizer(num_words=max_words)\n",
    "tokenizer.fit_on_texts(lyrics)\n",
    "sequences = tokenizer.texts_to_sequences(lyrics)\n",
    "\n",
    "word_index = tokenizer.word_index\n",
    "print('Found %s unique tokens.' % len(word_index))\n",
    "\n",
    "data = pad_sequences(sequences, maxlen=maxlen)\n",
    "\n",
    "labels = np.asarray(labels)\n",
    "print('Shape of data tensor:', data.shape)\n",
    "print('Shape of label tensor:', labels.shape)"
   ]
  },
  {
   "cell_type": "markdown",
   "metadata": {},
   "source": [
    "### 1.3 Data Sampling"
   ]
  },
  {
   "cell_type": "code",
   "execution_count": 29,
   "metadata": {},
   "outputs": [],
   "source": [
    "# Split the X & y into train and test sets\n",
    "from sklearn.model_selection import train_test_split\n",
    "X_train, X_test, y_train, y_test = train_test_split(data, labels, test_size=0.2, random_state = 5)\n",
    "# Refer the report Appendix\n",
    "# Please enter the random_state assigned to your group"
   ]
  },
  {
   "cell_type": "markdown",
   "metadata": {},
   "source": [
    "## Step 2 – Develop a Sentiment Analysis Model\n"
   ]
  },
  {
   "cell_type": "code",
   "execution_count": 34,
   "metadata": {},
   "outputs": [
    {
     "name": "stdout",
     "output_type": "stream",
     "text": [
      "Model: \"sequential_3\"\n",
      "_________________________________________________________________\n",
      " Layer (type)                Output Shape              Param #   \n",
      "=================================================================\n",
      " embedding_13 (Embedding)    (None, 500, 256)          12800000  \n",
      "                                                                 \n",
      " lstm_18 (LSTM)              (None, 500, 64)           82176     \n",
      "                                                                 \n",
      " dropout (Dropout)           (None, 500, 64)           0         \n",
      "                                                                 \n",
      " lstm_19 (LSTM)              (None, 500, 64)           33024     \n",
      "                                                                 \n",
      " dropout_1 (Dropout)         (None, 500, 64)           0         \n",
      "                                                                 \n",
      " lstm_20 (LSTM)              (None, 500, 64)           33024     \n",
      "                                                                 \n",
      " dropout_2 (Dropout)         (None, 500, 64)           0         \n",
      "                                                                 \n",
      " lstm_21 (LSTM)              (None, 64)                33024     \n",
      "                                                                 \n",
      " dense_5 (Dense)             (None, 3)                 195       \n",
      "                                                                 \n",
      "=================================================================\n",
      "Total params: 12981443 (49.52 MB)\n",
      "Trainable params: 12981443 (49.52 MB)\n",
      "Non-trainable params: 0 (0.00 Byte)\n",
      "_________________________________________________________________\n"
     ]
    }
   ],
   "source": [
    "# Build the Model\n",
    "\n",
    "from tensorflow.keras.layers import Embedding\n",
    "from tensorflow.keras.models import Sequential\n",
    "from tensorflow.keras import layers\n",
    "from tensorflow.keras.optimizers import RMSprop\n",
    "from tensorflow.keras import regularizers\n",
    "from tensorflow.keras.layers import Dropout\n",
    "from tensorflow.keras.layers import SimpleRNN\n",
    "from tensorflow.keras.layers import GRU\n",
    "\n",
    "\n",
    "# Conv1D approach\n",
    "# model = Sequential()\n",
    "# model.add(layers.Embedding(max_words, 256, input_length=maxlen))\n",
    "\n",
    "# model.add(layers.Conv1D(128, kernel_size=3, activation='relu'))\n",
    "# model.add(layers.Conv1D(128, kernel_size=3, activation='relu'))\n",
    "# model.add(layers.Conv1D(128, kernel_size=3, activation='relu'))\n",
    "# model.add(layers.Conv1D(128, kernel_size=3, activation='relu'))\n",
    "\n",
    "# #globalmaxpooling is just like flattern\n",
    "# model.add(layers.GlobalMaxPooling1D())\n",
    "# model.add(layers.Dense(128, activation='relu'))\n",
    "# model.add(layers.Dense(3, activation='softmax'))\n",
    "\n",
    "\n",
    "# SimpleRNN approach\n",
    "# model = Sequential()\n",
    "# model.add(layers.Embedding(max_words, 128, input_length=maxlen))\n",
    "# model.add(SimpleRNN(32, return_sequences = True))\n",
    "# # model.add(Dropout(0.3))\n",
    "# model.add(SimpleRNN(32, return_sequences = True))\n",
    "# model.add(Dropout(0.3))\n",
    "# # model.add(SimpleRNN(32, return_sequences = True))\n",
    "# model.add(SimpleRNN(32, return_sequences = True))\n",
    "# model.add(SimpleRNN(32))\n",
    "\n",
    "# # model.add(layers.Dense(128, activation='relu'))\n",
    "# model.add(layers.Dense(5, activation='softmax'))\n",
    "\n",
    "\n",
    "# GRU approach\n",
    "# model = Sequential()\n",
    "# model.add(layers.Embedding(max_words, 128, input_length=maxlen))\n",
    "# model.add(GRU(256, return_sequences = True))\n",
    "# model.add(Dropout(0.3))\n",
    "# model.add(GRU(256, return_sequences = True))\n",
    "# # model.add(Dropout(0.3))\n",
    "# model.add(GRU(128, return_sequences = True))\n",
    "# model.add(GRU(128, return_sequences = True))\n",
    "# model.add(GRU(128))\n",
    "\n",
    "\n",
    "# LSTM approach\n",
    "model = Sequential()\n",
    "model.add(layers.Embedding(max_words, 256, input_length=maxlen))\n",
    "model.add(layers.LSTM(64, return_sequences=True))\n",
    "model.add(Dropout(0.1))\n",
    "model.add(layers.LSTM(64, return_sequences=True))\n",
    "model.add(Dropout(0.1))\n",
    "model.add(layers.LSTM(64, return_sequences=True))\n",
    "model.add(Dropout(0.1))\n",
    "model.add(layers.LSTM(64))\n",
    "\n",
    "model.add(layers.Dense(3, activation='softmax'))\n",
    "\n",
    "\n",
    "model.summary()"
   ]
  },
  {
   "cell_type": "code",
   "execution_count": 35,
   "metadata": {},
   "outputs": [
    {
     "name": "stdout",
     "output_type": "stream",
     "text": [
      "Epoch 1/15\n",
      "6/6 [==============================] - 16s 2s/step - loss: 1.0785 - acc: 0.4636 - val_loss: 1.0004 - val_acc: 0.5591\n",
      "Epoch 2/15\n",
      "6/6 [==============================] - 14s 2s/step - loss: 1.0146 - acc: 0.4946 - val_loss: 0.9808 - val_acc: 0.5591\n",
      "Epoch 3/15\n",
      "6/6 [==============================] - 14s 2s/step - loss: 0.8606 - acc: 0.6132 - val_loss: 1.0213 - val_acc: 0.5699\n",
      "Epoch 4/15\n",
      "6/6 [==============================] - 14s 2s/step - loss: 0.6139 - acc: 0.7210 - val_loss: 1.0578 - val_acc: 0.5323\n",
      "Epoch 5/15\n",
      "6/6 [==============================] - 15s 2s/step - loss: 0.3250 - acc: 0.9124 - val_loss: 1.1787 - val_acc: 0.5484\n",
      "Epoch 6/15\n",
      "6/6 [==============================] - 13s 2s/step - loss: 0.1253 - acc: 0.9704 - val_loss: 1.6081 - val_acc: 0.5968\n",
      "Epoch 7/15\n",
      "6/6 [==============================] - 15s 3s/step - loss: 0.0877 - acc: 0.9744 - val_loss: 1.8574 - val_acc: 0.5860\n",
      "Epoch 8/15\n",
      "6/6 [==============================] - 16s 3s/step - loss: 0.0551 - acc: 0.9892 - val_loss: 2.4041 - val_acc: 0.4624\n",
      "Epoch 9/15\n",
      "6/6 [==============================] - 16s 3s/step - loss: 0.0612 - acc: 0.9838 - val_loss: 1.8717 - val_acc: 0.5914\n",
      "Epoch 10/15\n",
      "6/6 [==============================] - 16s 3s/step - loss: 0.0598 - acc: 0.9879 - val_loss: 2.0745 - val_acc: 0.4570\n",
      "Epoch 11/15\n",
      "6/6 [==============================] - 17s 3s/step - loss: 0.0333 - acc: 0.9933 - val_loss: 2.1040 - val_acc: 0.5161\n",
      "Epoch 12/15\n",
      "6/6 [==============================] - 16s 3s/step - loss: 0.0240 - acc: 0.9946 - val_loss: 2.0779 - val_acc: 0.5269\n",
      "Epoch 13/15\n",
      "6/6 [==============================] - 16s 3s/step - loss: 0.0242 - acc: 0.9960 - val_loss: 2.1014 - val_acc: 0.5538\n",
      "Epoch 14/15\n",
      "6/6 [==============================] - 17s 3s/step - loss: 0.0395 - acc: 0.9946 - val_loss: 2.3391 - val_acc: 0.5161\n",
      "Epoch 15/15\n",
      "6/6 [==============================] - 17s 3s/step - loss: 0.0302 - acc: 0.9946 - val_loss: 2.2871 - val_acc: 0.5430\n"
     ]
    }
   ],
   "source": [
    "# Train the Model\n",
    "\n",
    "from tensorflow.keras.optimizers.legacy import RMSprop\n",
    "\n",
    "optimizer = RMSprop(learning_rate=0.001)\n",
    "\n",
    "model.compile(optimizer=optimizer,\n",
    "              loss='sparse_categorical_crossentropy',\n",
    "              metrics=['acc'])\n",
    "history = model.fit(X_train, y_train,\n",
    "                    epochs=15,\n",
    "                    batch_size=128,\n",
    "                    validation_split=0.2)"
   ]
  },
  {
   "cell_type": "code",
   "execution_count": 33,
   "metadata": {},
   "outputs": [
    {
     "data": {
      "image/png": "[encoded data removed]",
      "text/plain": [
       "<Figure size 640x480 with 1 Axes>"
      ]
     },
     "metadata": {},
     "output_type": "display_data"
    },
    {
     "data": {
      "image/png": "[encoded data removed]",
      "text/plain": [
       "<Figure size 640x480 with 1 Axes>"
      ]
     },
     "metadata": {},
     "output_type": "display_data"
    }
   ],
   "source": [
    "# Plot the Training and Validation Accuracy & Loss Scores\n",
    "\n",
    "import matplotlib.pyplot as plt\n",
    "%matplotlib inline\n",
    "\n",
    "acc = history.history['acc']\n",
    "val_acc = history.history['val_acc']\n",
    "loss = history.history['loss']\n",
    "val_loss = history.history['val_loss']\n",
    "\n",
    "epochs = range(len(acc))\n",
    "\n",
    "plt.plot(epochs, acc, 'bo', label='Training acc')\n",
    "plt.plot(epochs, val_acc, 'b', label='Validation acc')\n",
    "plt.title('Training and validation accuracy')\n",
    "plt.legend()\n",
    "\n",
    "plt.figure()\n",
    "\n",
    "plt.plot(epochs, loss, 'bo', label='Training loss')\n",
    "plt.plot(epochs, val_loss, 'b', label='Validation loss')\n",
    "plt.title('Training and validation loss')\n",
    "plt.legend()\n",
    "\n",
    "plt.show()"
   ]
  },
  {
   "cell_type": "code",
   "execution_count": null,
   "metadata": {},
   "outputs": [],
   "source": [
    "# Save the Model\n",
    "model.save('text_model_v2.h5')"
   ]
  }
 ],
 "metadata": {
  "kernelspec": {
   "display_name": "Python 3 (ipykernel)",
   "language": "python",
   "name": "python3"
  },
  "language_info": {
   "codemirror_mode": {
    "name": "ipython",
    "version": 3
   },
   "file_extension": ".py",
   "mimetype": "text/x-python",
   "name": "python",
   "nbconvert_exporter": "python",
   "pygments_lexer": "ipython3",
   "version": "3.11.4"
  }
 },
 "nbformat": 4,
 "nbformat_minor": 4
}
