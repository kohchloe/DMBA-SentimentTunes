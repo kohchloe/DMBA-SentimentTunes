{
 "cells": [
  {
   "cell_type": "code",
   "execution_count": 2,
   "id": "e9a7aa55",
   "metadata": {},
   "outputs": [
    {
     "name": "stderr",
     "output_type": "stream",
     "text": [
      "[nltk_data] Downloading package punkt to\n",
      "[nltk_data]     C:\\Users\\User\\AppData\\Roaming\\nltk_data...\n",
      "[nltk_data]   Package punkt is already up-to-date!\n",
      "[nltk_data] Downloading package wordnet to\n",
      "[nltk_data]     C:\\Users\\User\\AppData\\Roaming\\nltk_data...\n",
      "[nltk_data]   Package wordnet is already up-to-date!\n"
     ]
    }
   ],
   "source": [
    "import openai\n",
    "import os\n",
    "import json\n",
    "import pandas as pd\n",
    "import nltk\n",
    "import time\n",
    "\n",
    "from nltk.stem import WordNetLemmatizer\n",
    "from sklearn.metrics import accuracy_score, classification_report\n",
    "\n",
    "nltk.download('punkt')\n",
    "nltk.download('wordnet')\n",
    "\n",
    "from dotenv import load_dotenv"
   ]
  },
  {
   "cell_type": "code",
   "execution_count": 3,
   "id": "76fa14bc",
   "metadata": {},
   "outputs": [],
   "source": [
    "load_dotenv()\n",
    "\n",
    "data = pd.read_csv(\"Datasets/SingleLabel.csv\")\n",
    "\n",
    "openai.api_key = os.getenv(\"OPEN_AI_KEY\")\n",
    "\n",
    "possible_moods = [\n",
    "    \"Sadness\",\n",
    "    \"Tension\",\n",
    "    \"Tenderness\",\n",
    "]"
   ]
  },
  {
   "cell_type": "code",
   "execution_count": 7,
   "id": "da01d867",
   "metadata": {},
   "outputs": [],
   "source": [
    "lemmatizer = WordNetLemmatizer()\n",
    "\n",
    "random_state = 5\n",
    "sample_size = 232\n",
    "max_lyrics_length = 100\n",
    "\n",
    "def lemmatize_word(word):\n",
    "    tokens = word.split()\n",
    "    lemmatized_tokens = [lemmatizer.lemmatize(word) for word in tokens]\n",
    "    lemmatized_text = ' '.join(lemmatized_tokens)\n",
    "    return lemmatized_text\n",
    "\n",
    "data[\"lyrics\"] = data[\"lyrics\"].apply(lemmatize_word)\n",
    "data[\"lyrics\"] = data[\"lyrics\"].apply(lambda lyrics: lyrics[:max_lyrics_length])"
   ]
  },
  {
   "cell_type": "code",
   "execution_count": 8,
   "id": "8f9d1b4e",
   "metadata": {},
   "outputs": [],
   "source": [
    "sample = data[101:].sample(n=sample_size, random_state=random_state)"
   ]
  },
  {
   "cell_type": "code",
   "execution_count": 10,
   "id": "df00aba5",
   "metadata": {},
   "outputs": [],
   "source": [
    "training_data = []\n",
    "\n",
    "for index, row in data.iterrows():\n",
    "    lyrics = row[\"lyrics\"]\n",
    "    mood_label = row[\"label\"]\n",
    "    example = {\n",
    "        \"input\": f\"Predict the mood for the following lyric: '{lyrics}'\",\n",
    "        \"output\": mood_label,\n",
    "    }\n",
    "    training_data.append(example)"
   ]
  },
  {
   "cell_type": "code",
   "execution_count": 11,
   "id": "62952933",
   "metadata": {},
   "outputs": [],
   "source": [
    "def generate_mood_suggestion(input_text, model=\"gpt-3.5-turbo-16k\"):\n",
    "    prompt = f\"Given the following list of possible moods: {', '.join(possible_moods)}, please suggest a suitable mood for the following text: '{input_text}'.\"\n",
    "    conversation = [{\"role\": \"user\", \"content\": example[\"input\"]} for example in training_data[:101]]\n",
    "    conversation.append({\"role\": \"user\", \"content\": prompt})\n",
    "    response = openai.ChatCompletion.create(\n",
    "        model=model,\n",
    "        messages = conversation,\n",
    "        n=3,\n",
    "        max_tokens=1000,\n",
    "        temperature=0\n",
    "    )\n",
    "    suggested_mood = response['choices'][0]['message']['content']\n",
    "    for mood in possible_moods:\n",
    "        if mood in suggested_mood:\n",
    "            return mood"
   ]
  },
  {
   "cell_type": "code",
   "execution_count": 12,
   "id": "3f541cab",
   "metadata": {},
   "outputs": [],
   "source": [
    "def string_to_json(text: str):\n",
    "    text = text.replace(\"`\", \"\")\n",
    "    text = text.replace(\"json\", \"\")\n",
    "    return json.loads(text)"
   ]
  },
  {
   "cell_type": "code",
   "execution_count": 13,
   "id": "5ee3a4ab",
   "metadata": {},
   "outputs": [],
   "source": [
    "predicted_labels=[]\n",
    "\n",
    "def evaluate_mood_suggestions(sample, start_index=0):\n",
    "    actual_labels = sample[\"label\"]\n",
    "\n",
    "    for index, row in enumerate(sample.iloc[start_index:].itertuples()):\n",
    "        actual_index = start_index + index\n",
    "        lyrics = row.lyrics\n",
    "        try:\n",
    "            suggested_moods = generate_mood_suggestion(lyrics)\n",
    "            predicted_labels.append(suggested_moods)\n",
    "            if (actual_index > 0 and actual_index % 5 == 0):\n",
    "                print(f\"Index {actual_index}: Resting for a while...\")\n",
    "                time.sleep(60)\n",
    "        except Exception as e:\n",
    "            if \"Rate limit reached\" in str(e):\n",
    "                print(f\"Rate limit reached at index {actual_index}. Sleeping for a while...\")\n",
    "                time.sleep(60)\n",
    "                start_index = actual_index\n",
    "                return evaluate_mood_suggestions(sample, start_index)\n",
    "            else:\n",
    "                print(f\"Error at index {actual_index}: {e}\")\n",
    "                time.sleep(120)\n",
    "                start_index = actual_index\n",
    "                return evaluate_mood_suggestions(sample, start_index)\n",
    "\n",
    "    accuracy = accuracy_score(actual_labels, predicted_labels)\n",
    "    report = classification_report(actual_labels, predicted_labels)\n",
    "\n",
    "    return accuracy, report"
   ]
  },
  {
   "cell_type": "code",
   "execution_count": 14,
   "id": "a216e547",
   "metadata": {},
   "outputs": [
    {
     "name": "stdout",
     "output_type": "stream",
     "text": [
      "Error at index 2: The server is overloaded or not ready yet.\n",
      "Index 5: Resting for a while...\n",
      "Error at index 7: The server is overloaded or not ready yet.\n",
      "Index 10: Resting for a while...\n",
      "Index 15: Resting for a while...\n",
      "Error at index 17: Request timed out: HTTPSConnectionPool(host='api.openai.com', port=443): Read timed out. (read timeout=600)\n",
      "Index 20: Resting for a while...\n",
      "Index 25: Resting for a while...\n",
      "Error at index 29: Request timed out: HTTPSConnectionPool(host='api.openai.com', port=443): Read timed out. (read timeout=600)\n",
      "Index 30: Resting for a while...\n",
      "Index 35: Resting for a while...\n",
      "Index 40: Resting for a while...\n",
      "Index 45: Resting for a while...\n",
      "Index 50: Resting for a while...\n",
      "Index 55: Resting for a while...\n",
      "Index 60: Resting for a while...\n",
      "Index 65: Resting for a while...\n",
      "Index 70: Resting for a while...\n",
      "Index 75: Resting for a while...\n",
      "Index 80: Resting for a while...\n",
      "Index 85: Resting for a while...\n",
      "Index 90: Resting for a while...\n",
      "Index 95: Resting for a while...\n",
      "Index 100: Resting for a while...\n",
      "Index 105: Resting for a while...\n",
      "Error at index 109: The server is overloaded or not ready yet.\n",
      "Index 110: Resting for a while...\n",
      "Index 115: Resting for a while...\n",
      "Error at index 120: Request timed out: HTTPSConnectionPool(host='api.openai.com', port=443): Read timed out. (read timeout=600)\n",
      "Index 120: Resting for a while...\n",
      "Index 125: Resting for a while...\n",
      "Index 130: Resting for a while...\n",
      "Index 135: Resting for a while...\n",
      "Index 140: Resting for a while...\n",
      "Index 145: Resting for a while...\n",
      "Index 150: Resting for a while...\n",
      "Error at index 154: Request timed out: HTTPSConnectionPool(host='api.openai.com', port=443): Read timed out. (read timeout=600)\n",
      "Index 155: Resting for a while...\n",
      "Index 160: Resting for a while...\n",
      "Index 165: Resting for a while...\n",
      "Index 170: Resting for a while...\n",
      "Index 175: Resting for a while...\n",
      "Index 180: Resting for a while...\n",
      "Index 185: Resting for a while...\n",
      "Index 190: Resting for a while...\n",
      "Index 195: Resting for a while...\n",
      "Index 200: Resting for a while...\n",
      "Index 205: Resting for a while...\n",
      "Index 210: Resting for a while...\n",
      "Index 215: Resting for a while...\n",
      "Index 220: Resting for a while...\n",
      "Index 225: Resting for a while...\n",
      "Index 230: Resting for a while...\n",
      "Accuracy: 0.47844827586206895\n",
      "              precision    recall  f1-score   support\n",
      "\n",
      "     Sadness       0.73      0.17      0.28       110\n",
      "  Tenderness       0.45      0.85      0.59        71\n",
      "     Tension       0.43      0.63      0.51        51\n",
      "\n",
      "    accuracy                           0.48       232\n",
      "   macro avg       0.54      0.55      0.46       232\n",
      "weighted avg       0.58      0.48      0.43       232\n",
      "\n"
     ]
    }
   ],
   "source": [
    "if __name__ == \"__main__\":\n",
    "    # print(generate_mood_suggestion(\"I got f grade for my exammmm\"))\n",
    "    accuracy, report = evaluate_mood_suggestions(sample)\n",
    "\n",
    "    print(f\"Accuracy: {accuracy}\")\n",
    "    print(report)"
   ]
  },
  {
   "cell_type": "code",
   "execution_count": null,
   "id": "e3b84844",
   "metadata": {},
   "outputs": [],
   "source": []
  }
 ],
 "metadata": {
  "kernelspec": {
   "display_name": "Python 3",
   "language": "python",
   "name": "python3"
  },
  "language_info": {
   "codemirror_mode": {
    "name": "ipython",
    "version": 3
   },
   "file_extension": ".py",
   "mimetype": "text/x-python",
   "name": "python",
   "nbconvert_exporter": "python",
   "pygments_lexer": "ipython3",
   "version": "3.9.6"
  }
 },
 "nbformat": 4,
 "nbformat_minor": 5
}
