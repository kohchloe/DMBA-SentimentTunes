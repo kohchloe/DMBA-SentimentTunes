{
 "cells": [
  {
   "cell_type": "code",
   "execution_count": 1,
   "id": "e9a7aa55",
   "metadata": {},
   "outputs": [
    {
     "name": "stderr",
     "output_type": "stream",
     "text": [
      "[nltk_data] Downloading package punkt to\n",
      "[nltk_data]     C:\\Users\\User\\AppData\\Roaming\\nltk_data...\n",
      "[nltk_data]   Package punkt is already up-to-date!\n",
      "[nltk_data] Downloading package wordnet to\n",
      "[nltk_data]     C:\\Users\\User\\AppData\\Roaming\\nltk_data...\n",
      "[nltk_data]   Package wordnet is already up-to-date!\n"
     ]
    }
   ],
   "source": [
    "import openai\n",
    "import os\n",
    "import json\n",
    "import pandas as pd\n",
    "import nltk\n",
    "import time\n",
    "\n",
    "from nltk.stem import WordNetLemmatizer\n",
    "from sklearn.metrics import accuracy_score, classification_report\n",
    "\n",
    "nltk.download('punkt')\n",
    "nltk.download('wordnet')\n",
    "\n",
    "from dotenv import load_dotenv"
   ]
  },
  {
   "cell_type": "code",
   "execution_count": 2,
   "id": "76fa14bc",
   "metadata": {},
   "outputs": [],
   "source": [
    "load_dotenv()\n",
    "\n",
    "data = pd.read_csv(\"Datasets/SingleLabel.csv\")\n",
    "\n",
    "openai.api_key = os.getenv(\"OPENAI_KEY\")\n",
    "\n",
    "possible_moods = [\n",
    "    \"Sadness\",\n",
    "    \"Tension\",\n",
    "    \"Tenderness\",\n",
    "]"
   ]
  },
  {
   "cell_type": "code",
   "execution_count": 3,
   "id": "da01d867",
   "metadata": {},
   "outputs": [],
   "source": [
    "lemmatizer = WordNetLemmatizer()\n",
    "\n",
    "random_state = 5\n",
    "sample_size = 30\n",
    "max_lyrics_length = 100\n",
    "\n",
    "def lemmatize_word(word):\n",
    "    tokens = word.split()\n",
    "    lemmatized_tokens = [lemmatizer.lemmatize(word) for word in tokens]\n",
    "    lemmatized_text = ' '.join(lemmatized_tokens)\n",
    "    return lemmatized_text\n",
    "\n",
    "data[\"lyrics\"] = data[\"lyrics\"].apply(lemmatize_word)\n",
    "data[\"lyrics\"] = data[\"lyrics\"].apply(lambda lyrics: lyrics[:max_lyrics_length])"
   ]
  },
  {
   "cell_type": "code",
   "execution_count": 4,
   "id": "8f9d1b4e",
   "metadata": {},
   "outputs": [],
   "source": [
    "sample = data[101:].groupby('label', group_keys=False).apply(lambda x: x.sample(sample_size // 3, random_state=random_state))"
   ]
  },
  {
   "cell_type": "code",
   "execution_count": 5,
   "id": "df00aba5",
   "metadata": {},
   "outputs": [],
   "source": [
    "training_data = []\n",
    "\n",
    "for index, row in data.iterrows():\n",
    "    lyrics = row[\"lyrics\"]\n",
    "    mood_label = row[\"label\"]\n",
    "    example = {\n",
    "        \"input\": f\"Predict the mood for the following lyric: '{lyrics}'\",\n",
    "        \"output\": mood_label,\n",
    "    }\n",
    "    training_data.append(example)"
   ]
  },
  {
   "cell_type": "code",
   "execution_count": 6,
   "id": "62952933",
   "metadata": {},
   "outputs": [],
   "source": [
    "def generate_mood_suggestion(input_text, model=\"gpt-3.5-turbo-16k\"):\n",
    "    prompt = f\"Given the following list of possible moods: {', '.join(possible_moods)}, please suggest a suitable mood for the following text: '{input_text}'.\"\n",
    "    conversation = [{\"role\": \"user\", \"content\": example[\"input\"]} for example in training_data[:101]]\n",
    "    conversation.append({\"role\": \"user\", \"content\": prompt})\n",
    "    response = openai.ChatCompletion.create(\n",
    "        model=model,\n",
    "        messages = conversation,\n",
    "        n=3,\n",
    "        max_tokens=1000,\n",
    "        temperature=0\n",
    "    )\n",
    "    suggested_mood = response['choices'][0]['message']['content']\n",
    "    for mood in possible_moods:\n",
    "        if mood in suggested_mood:\n",
    "            return mood"
   ]
  },
  {
   "cell_type": "code",
   "execution_count": 7,
   "id": "3f541cab",
   "metadata": {},
   "outputs": [],
   "source": [
    "def string_to_json(text: str):\n",
    "    text = text.replace(\"`\", \"\")\n",
    "    text = text.replace(\"json\", \"\")\n",
    "    return json.loads(text)"
   ]
  },
  {
   "cell_type": "code",
   "execution_count": 8,
   "id": "5ee3a4ab",
   "metadata": {},
   "outputs": [],
   "source": [
    "predicted_labels=[]\n",
    "\n",
    "def evaluate_mood_suggestions(sample, start_index=0):\n",
    "    actual_labels = sample[\"label\"]\n",
    "\n",
    "    for index, row in enumerate(sample.iloc[start_index:].itertuples()):\n",
    "        actual_index = start_index + index\n",
    "        lyrics = row.lyrics\n",
    "        try:\n",
    "            suggested_moods = generate_mood_suggestion(lyrics)\n",
    "            predicted_labels.append(suggested_moods)\n",
    "        except Exception as e:\n",
    "            if \"Rate limit reached\" in str(e):\n",
    "                print(f\"Rate limit reached at index {actual_index}. Sleeping for a while...\")\n",
    "                time.sleep(60)\n",
    "                start_index = actual_index\n",
    "                return evaluate_mood_suggestions(sample, start_index)\n",
    "            else:\n",
    "                print(f\"Error at index {actual_index}: {e}\")\n",
    "\n",
    "    accuracy = accuracy_score(actual_labels, predicted_labels)\n",
    "    report = classification_report(actual_labels, predicted_labels)\n",
    "\n",
    "    return accuracy, report"
   ]
  },
  {
   "cell_type": "code",
   "execution_count": 9,
   "id": "a216e547",
   "metadata": {},
   "outputs": [
    {
     "name": "stdout",
     "output_type": "stream",
     "text": [
      "Rate limit reached at index 3. Sleeping for a while...\n",
      "Rate limit reached at index 6. Sleeping for a while...\n",
      "Rate limit reached at index 9. Sleeping for a while...\n",
      "Rate limit reached at index 12. Sleeping for a while...\n",
      "Rate limit reached at index 15. Sleeping for a while...\n",
      "Rate limit reached at index 18. Sleeping for a while...\n",
      "Rate limit reached at index 21. Sleeping for a while...\n",
      "Rate limit reached at index 24. Sleeping for a while...\n",
      "Rate limit reached at index 27. Sleeping for a while...\n",
      "Accuracy: 0.5\n",
      "              precision    recall  f1-score   support\n",
      "\n",
      "     Sadness       0.50      0.20      0.29        10\n",
      "  Tenderness       0.44      0.80      0.57        10\n",
      "     Tension       0.62      0.50      0.56        10\n",
      "\n",
      "    accuracy                           0.50        30\n",
      "   macro avg       0.52      0.50      0.47        30\n",
      "weighted avg       0.52      0.50      0.47        30\n",
      "\n"
     ]
    }
   ],
   "source": [
    "if __name__ == \"__main__\":\n",
    "    # print(generate_mood_suggestion(\"I got f grade for my exammmm\"))\n",
    "    accuracy, report = evaluate_mood_suggestions(sample)\n",
    "\n",
    "    print(f\"Accuracy: {accuracy}\")\n",
    "    print(report)"
   ]
  },
  {
   "cell_type": "code",
   "execution_count": null,
   "id": "e3b84844",
   "metadata": {},
   "outputs": [],
   "source": []
  }
 ],
 "metadata": {
  "kernelspec": {
   "display_name": "Python 3",
   "language": "python",
   "name": "python3"
  },
  "language_info": {
   "codemirror_mode": {
    "name": "ipython",
    "version": 3
   },
   "file_extension": ".py",
   "mimetype": "text/x-python",
   "name": "python",
   "nbconvert_exporter": "python",
   "pygments_lexer": "ipython3",
   "version": "3.9.6"
  }
 },
 "nbformat": 4,
 "nbformat_minor": 5
}
